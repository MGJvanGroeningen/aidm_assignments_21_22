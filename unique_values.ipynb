{
 "cells": [
  {
   "cell_type": "code",
   "execution_count": 7,
   "id": "aa4510e2",
   "metadata": {},
   "outputs": [
    {
     "name": "stdout",
     "output_type": "stream",
     "text": [
      "9950.171201369096\n",
      "9.561792499119559\n",
      "6.513215599\n",
      "6321.389535670295\n",
      "9.999734386011124\n",
      "9999.54622766041\n"
     ]
    }
   ],
   "source": [
    "import numpy\n",
    "\n",
    "def unique_values(n, N):\n",
    "    prob_not_in_sample = (1 - 1/N)**n\n",
    "    prob_in_sample = 1 - prob_not_in_sample\n",
    "    unique_numbers = N * prob_in_sample\n",
    "    return unique_numbers\n",
    "\n",
    "print(unique_values(1e4, 1e6))\n",
    "print(unique_values(1e1, 1e2))\n",
    "print(unique_values(1e1, 1e1))\n",
    "print(unique_values(1e4, 1e4))\n",
    "print(unique_values(1e2, 1e1))\n",
    "print(unique_values(1e5, 1e4))"
   ]
  }
 ],
 "metadata": {
  "kernelspec": {
   "display_name": "Python 3 (ipykernel)",
   "language": "python",
   "name": "python3"
  },
  "language_info": {
   "codemirror_mode": {
    "name": "ipython",
    "version": 3
   },
   "file_extension": ".py",
   "mimetype": "text/x-python",
   "name": "python",
   "nbconvert_exporter": "python",
   "pygments_lexer": "ipython3",
   "version": "3.8.11"
  }
 },
 "nbformat": 4,
 "nbformat_minor": 5
}
