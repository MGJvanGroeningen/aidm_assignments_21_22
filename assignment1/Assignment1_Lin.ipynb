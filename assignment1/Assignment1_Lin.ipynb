{
 "cells": [
  {
   "cell_type": "code",
   "execution_count": 34,
   "id": "065dee71",
   "metadata": {},
   "outputs": [],
   "source": [
    "import numpy as np\n",
    "import matplotlib.pyplot as plt\n",
    "import pandas as pd\n",
    "import os\n",
    "from sklearn.model_selection import KFold\n",
    "from sklearn.linear_model import LinearRegression\n",
    "from sklearn.linear_model import Ridge\n",
    "from sklearn.metrics import mean_absolute_error as mae\n",
    "import time"
   ]
  },
  {
   "cell_type": "code",
   "execution_count": 32,
   "id": "99e22fbf",
   "metadata": {},
   "outputs": [],
   "source": [
    "data_dir = 'ml-1m'\n",
    "\n",
    "movies_filename = 'movies.dat'\n",
    "users_filename = 'users.dat'\n",
    "ratings_filename = 'ratings.dat'\n",
    "\n",
    "movies_columns = ['MovieID', 'Title', 'Genres']\n",
    "users_columns = ['UserID', 'Gender', 'Age', 'Occupation', 'Zip-code']\n",
    "ratings_columns = ['UserID', 'MovieID', 'Rating', 'Timestamp']\n",
    "\n",
    "def create_dataframe(data_dir, filename, columns):\n",
    "    data_file = os.path.join(data_dir, filename)\n",
    "    return pd.read_csv(data_file, delimiter='::', names=columns, encoding='latin-1', engine='python')\n",
    "\n",
    "movies = create_dataframe(data_dir, movies_filename, movies_columns)\n",
    "users = create_dataframe(data_dir, users_filename, users_columns)\n",
    "ratings = create_dataframe(data_dir, ratings_filename, ratings_columns)\n",
    "data = (users, movies, ratings)"
   ]
  },
  {
   "cell_type": "markdown",
   "id": "8216169a",
   "metadata": {},
   "source": [
    "Calculate the average numbers of ratings from each user and to each movie"
   ]
  },
  {
   "cell_type": "markdown",
   "id": "390ea730",
   "metadata": {},
   "source": [
    "# Naive Model 4 and 5"
   ]
  },
  {
   "cell_type": "code",
   "execution_count": 27,
   "id": "3c2f77ce",
   "metadata": {},
   "outputs": [
    {
     "name": "stdout",
     "output_type": "stream",
     "text": [
      "Mean number of ratings for each movie 257.5866597991244\n",
      "Mean number of ratings from each user 165.5975165562914\n"
     ]
    }
   ],
   "source": [
    "len_list_movie = []\n",
    "len_list_user = []\n",
    "        \n",
    "for movie_id in movies['MovieID']:\n",
    "    len_list_movie.append(len(ratings[ratings['MovieID'] == movie_id]['Rating'] ))\n",
    "for user_id in users['UserID']:\n",
    "    len_list_user.append(len(ratings[ratings['UserID'] == user_id]['Rating']))\n",
    "\n",
    "print('Mean number of ratings for each movie',np.mean(np.array(len_list_movie)))\n",
    "print('Mean number of ratings from each user',np.mean(np.array(len_list_user)))"
   ]
  },
  {
   "cell_type": "markdown",
   "id": "d9fc520e",
   "metadata": {},
   "source": [
    "We only take the average ratings for a certain movie and from a certain user, if that movie is rated by the number of times larger than the counts parameter, or if that user has given the number of ratings larger than the counts parameters. Otherwise, we choose the global mean to be the average ratings for that movie or user. If a movie or user are not appear in the training set, we also use the global mean to represent their average ratings."
   ]
  },
  {
   "cell_type": "code",
   "execution_count": 36,
   "id": "14a2646e",
   "metadata": {},
   "outputs": [],
   "source": [
    "def choosing_mean(ratings,global_mean,counts):\n",
    "            if len(ratings) > counts:\n",
    "                return ratings.mean()\n",
    "                \n",
    "            else:\n",
    "                return global_mean"
   ]
  },
  {
   "cell_type": "markdown",
   "id": "92dfd30a",
   "metadata": {},
   "source": [
    "The function for calculating the RMSE and MAE errors"
   ]
  },
  {
   "cell_type": "code",
   "execution_count": 50,
   "id": "47c2f205",
   "metadata": {},
   "outputs": [],
   "source": [
    "def error_4_5(test_set,reg,mean_rating_per_movie,mean_rating_per_user,rounding):\n",
    "    ##create the input matrix X=[Ritem,Ruser]\n",
    "    mean_rating_per_movie_list = np.array([mean_rating_per_movie[movie_id] for movie_id in test_set['MovieID']])\n",
    "    mean_rating_per_user_list = np.array([mean_rating_per_user[user_id] for user_id in test_set['UserID']])\n",
    "    \n",
    "    ##the predicted rating value for the test set using model 4 and 5.\n",
    "    mean_rating_list = np.vstack((mean_rating_per_user_list,mean_rating_per_movie_list)).T\n",
    "    pre_rating = reg.predict(mean_rating_list)\n",
    "    \n",
    "    ##if rounding is true,round the values bigger than 5 to 5 and smaller than\n",
    "    ##1 to 1\n",
    "    if rounding:\n",
    "        pre_rating[pre_rating>5]=5\n",
    "        pre_rating[pre_rating<1]=1\n",
    "    \n",
    "    ##calculate the rmse and mae of the for the prediction value\n",
    "    rating_error_rmse = np.sqrt(((test_set['Rating'] - pre_rating)**2).mean())\n",
    "    rating_error_mae = mae(test_set['Rating'],pre_rating)\n",
    "    \n",
    "    \n",
    "    return rating_error_rmse,rating_error_mae\n",
    "    \n",
    "    "
   ]
  },
  {
   "cell_type": "code",
   "execution_count": 51,
   "id": "e5953a51",
   "metadata": {},
   "outputs": [],
   "source": [
    "def test_naive_model_4_5(data, counts, rounding):\n",
    "    users, movies, ratings = data\n",
    "    \n",
    "    cv = KFold(n_splits=5, random_state=42, shuffle=True)\n",
    "    \n",
    "    rating_errors_4_rmse_train = np.array([])\n",
    "    rating_errors_5_rmse_train = np.array([])\n",
    "    rating_errors_4_mae_train = np.array([])\n",
    "    rating_errors_5_mae_train = np.array([])\n",
    "    \n",
    "    rating_errors_4_rmse = np.array([])\n",
    "    rating_errors_5_rmse = np.array([])\n",
    "    rating_errors_4_mae = np.array([])\n",
    "    rating_errors_5_mae = np.array([])\n",
    "    \n",
    "    mean = ratings['Rating'].mean()\n",
    "    \n",
    "    ##calculate the average Ritems and average Rusers, and store them in two dicts\n",
    "    mean_rating_per_movie = {movie_id : choosing_mean(ratings[ratings['MovieID'] == movie_id]['Rating'],mean,counts) \n",
    "                                 for movie_id in movies['MovieID']}\n",
    "    mean_rating_per_user =  {user_id : choosing_mean(ratings[ratings['UserID'] == user_id]['Rating'],mean,counts) \n",
    "                                 for user_id in users['UserID']}\n",
    "    \n",
    "        \n",
    "    for train_index, test_index in cv.split(ratings):\n",
    "        train_set = ratings.iloc[train_index]\n",
    "        test_set = ratings.iloc[test_index]\n",
    "        \n",
    "        \n",
    "\n",
    "        ##the lists of mean Ritem and mean Ruser for each rating in the train_set\n",
    "        mean_rating_per_movie_list = np.array([mean_rating_per_movie[movie_id] for movie_id in train_set['MovieID']])\n",
    "        mean_rating_per_user_list = np.array([mean_rating_per_user[user_id] for user_id in train_set['UserID']])\n",
    "        \n",
    "        \n",
    "        ## stack the Ritem and Ruser lists for linear fitting\n",
    "        mean_rating_list = np.vstack((mean_rating_per_user_list,mean_rating_per_movie_list)).T\n",
    "        \n",
    "        \n",
    "        \n",
    "        \n",
    "        ## uisng Ordinary least squares Linear Regression to find alpha beta and gamma\n",
    "        reg_4 = LinearRegression(fit_intercept=False).fit(mean_rating_list, train_set['Rating'])\n",
    "        reg_5 = LinearRegression(fit_intercept=True).fit(mean_rating_list, train_set['Rating'])\n",
    "        \n",
    "    \n",
    "        \n",
    "        ##RMSE and MAE errors for training set\n",
    "        rating_err_rmse4_train,rating_err_mae4_train = error_4_5(train_set,reg_4,\n",
    "                                                                 mean_rating_per_movie,mean_rating_per_user,rounding)\n",
    "        rating_err_rmse5_train,rating_err_mae5_train = error_4_5(train_set,reg_5,\n",
    "                                                                 mean_rating_per_movie,mean_rating_per_user,rounding)\n",
    "        \n",
    "        ##RMSE and MAE errors for test set\n",
    "        rating_err_rmse4,rating_err_mae4 = error_4_5(test_set,reg_4,mean_rating_per_movie,mean_rating_per_user,\n",
    "                                                    rounding)\n",
    "        rating_err_rmse5,rating_err_mae5 = error_4_5(test_set,reg_5,mean_rating_per_movie,mean_rating_per_user,\n",
    "                                                    rounding)\n",
    "        \n",
    "        rating_errors_4_rmse_train = np.append(rating_errors_4_rmse_train,rating_err_rmse4_train)\n",
    "        rating_errors_5_rmse_train = np.append(rating_errors_5_rmse_train,rating_err_rmse5_train)\n",
    "        rating_errors_4_mae_train = np.append(rating_errors_4_mae_train,rating_err_mae4_train)\n",
    "        rating_errors_5_mae_train = np.append(rating_errors_5_mae_train,rating_err_mae5_train)\n",
    "        \n",
    "        rating_errors_4_rmse = np.append(rating_errors_4_rmse,rating_err_rmse4)\n",
    "        rating_errors_5_rmse = np.append(rating_errors_5_rmse,rating_err_rmse5)\n",
    "        rating_errors_4_mae = np.append(rating_errors_4_mae,rating_err_mae4)\n",
    "        rating_errors_5_mae = np.append(rating_errors_5_mae,rating_err_mae5)\n",
    "        \n",
    "        \n",
    "        \n",
    "        \n",
    "#         print('Rating Error for Naive Model 4:', rating_err_rmse4,rating_err_mae4)\n",
    "#         print('Rating Error for Naive Model 5:', rating_err_rmse5,rating_err_mae5)\n",
    "    print('Train RMSE for Naive Model 4:', np.mean(rating_errors_4_rmse_train))   \n",
    "    print('Train MAE for Naive Model 4:', np.mean(rating_errors_4_mae_train))\n",
    "    print('Train RMSE for Naive Model 5:', np.mean(rating_errors_5_rmse_train))   \n",
    "    print('Train MAE for Naive Model 5:', np.mean(rating_errors_5_mae_train))\n",
    "\n",
    "    \n",
    "    print('Test RMSE for Naive Model 4:', np.mean(rating_errors_4_rmse))   \n",
    "    print('Test MAE for Naive Model 4:', np.mean(rating_errors_4_mae))\n",
    "    print('Test RMSE for Naive Model 5:', np.mean(rating_errors_5_rmse))   \n",
    "    print('Test MAE for Naive Model 5:', np.mean(rating_errors_5_mae))\n",
    "        \n",
    "        \n",
    "        "
   ]
  },
  {
   "cell_type": "markdown",
   "id": "f2bbf75c",
   "metadata": {},
   "source": [
    "Using global mean as the fall back value "
   ]
  },
  {
   "cell_type": "code",
   "execution_count": 52,
   "id": "02ce21c2",
   "metadata": {},
   "outputs": [
    {
     "name": "stdout",
     "output_type": "stream",
     "text": [
      "Train RMSE for Naive Model 4: 0.9473792979101612\n",
      "Train MAE for Naive Model 4: 0.7592203472550612\n",
      "Train RMSE for Naive Model 5: 0.9155295183890818\n",
      "Train MAE for Naive Model 5: 0.7256315303789693\n",
      "Test RMSE for Naive Model 4: 0.9473790941835633\n",
      "Test MAE for Naive Model 4: 0.7592229965429839\n",
      "Test RMSE for Naive Model 5: 0.9155297455136411\n",
      "Test MAE for Naive Model 5: 0.7256343396338727\n",
      "Time Required: 28.27229642868042\n"
     ]
    }
   ],
   "source": [
    "start = time.time()\n",
    "\n",
    "test_naive_model_4_5(data,0,True)\n",
    "\n",
    "end = time.time()\n",
    "\n",
    "print('Time Required:', end-start)"
   ]
  },
  {
   "cell_type": "markdown",
   "id": "64ce2912",
   "metadata": {},
   "source": [
    "Using global mean as the fall back value, no rounding"
   ]
  },
  {
   "cell_type": "code",
   "execution_count": 29,
   "id": "7df78dbf",
   "metadata": {
    "scrolled": true
   },
   "outputs": [
    {
     "name": "stdout",
     "output_type": "stream",
     "text": [
      "(800167, 2)\n",
      "[[3.58156445 4.39072464]\n",
      " [3.58156445 4.23890533]\n",
      " [3.58156445 3.96052632]\n",
      " ...\n",
      " [3.57771261 3.58156445]\n",
      " [3.57771261 3.35614702]\n",
      " [3.57771261 3.79916318]]\n",
      "[4.10045617 4.00222783 3.82211432 ... 3.57556821 3.42972128 3.71635637]\n",
      "[[3.58156445 4.39072464]\n",
      " [3.58156445 4.23890533]\n",
      " [3.58156445 3.96052632]\n",
      " ...\n",
      " [3.57771261 3.58156445]\n",
      " [3.57771261 3.35614702]\n",
      " [3.57771261 3.79916318]]\n",
      "[4.33680742 4.19238902 3.9275805  ... 3.56364322 3.34921448 3.7706344 ]\n",
      "Rating Error for Naive Model 4: 1.0028222348196791 0.8085080988634691\n",
      "Rating Error for Naive Model 5: 0.9728672766757607 0.7747892149583154\n",
      "(800167, 2)\n",
      "[[3.58156445 4.11079545]\n",
      " [3.58156445 4.24796275]\n",
      " [3.58156445 3.88584906]\n",
      " ...\n",
      " [3.57771261 4.56050955]\n",
      " [3.57771261 4.33735394]\n",
      " [3.57771261 3.97674419]]\n",
      "[3.91849283 4.00714829 3.77310304 ... 4.20780016 4.06356781 3.83049461]\n",
      "[[3.58156445 4.11079545]\n",
      " [3.58156445 4.24796275]\n",
      " [3.58156445 3.88584906]\n",
      " ...\n",
      " [3.57771261 4.56050955]\n",
      " [3.57771261 4.33735394]\n",
      " [3.57771261 3.97674419]]\n",
      "[4.06988175 4.20030444 3.8559961  ... 4.49403482 4.2818519  3.93897355]\n",
      "Rating Error for Naive Model 4: 0.9973746276039921 0.8037559030455222\n",
      "Rating Error for Naive Model 5: 0.9672372987208141 0.7684042644887822\n",
      "(800167, 2)\n",
      "[[3.58156445 4.15408805]\n",
      " [3.58156445 3.58156445]\n",
      " [3.58156445 3.9651829 ]\n",
      " ...\n",
      " [3.57771261 4.01835853]\n",
      " [3.57771261 2.79356568]\n",
      " [3.57771261 3.9651829 ]]\n",
      "[3.94720146 3.57801696 3.8253884  ... 3.8583138  3.06852186 3.82402418]\n",
      "[[3.58156445 4.15408805]\n",
      " [3.58156445 3.58156445]\n",
      " [3.58156445 3.9651829 ]\n",
      " ...\n",
      " [3.57771261 4.01835853]\n",
      " [3.57771261 2.79356568]\n",
      " [3.57771261 3.9651829 ]]\n",
      "[4.11130643 3.56783352 3.9319866  ... 3.97900972 2.81636468 3.9285323 ]\n",
      "Rating Error for Naive Model 4: 0.9977807109785803 0.8033807792108586\n",
      "Rating Error for Naive Model 5: 0.9673957101915863 0.7686352790654699\n",
      "(800167, 2)\n",
      "[[3.58156445 3.4647619 ]\n",
      " [3.58156445 3.85437463]\n",
      " [3.58156445 3.66515837]\n",
      " ...\n",
      " [3.57771261 3.33226496]\n",
      " [3.57771261 4.27333333]\n",
      " [3.57771261 3.53149606]]\n",
      "[3.50127525 3.75319139 3.63084777 ... 3.41424907 4.02272589 3.54306809]\n",
      "[[3.58156445 3.4647619 ]\n",
      " [3.58156445 3.85437463]\n",
      " [3.58156445 3.66515837]\n",
      " ...\n",
      " [3.57771261 3.33226496]\n",
      " [3.57771261 4.27333333]\n",
      " [3.57771261 3.53149606]]\n",
      "[3.45557175 3.82592642 3.64606288 ... 3.32618291 4.22073547 3.51556628]\n",
      "Rating Error for Naive Model 4: 1.0001802005420346 0.8050324218354099\n",
      "Rating Error for Naive Model 5: 0.9695110553804831 0.7703043464763585\n",
      "(800168, 2)\n",
      "[[3.58156445 3.86387833]\n",
      " [3.58156445 4.30371009]\n",
      " [3.58156445 3.84534731]\n",
      " ...\n",
      " [3.57771261 4.13582208]\n",
      " [3.57771261 4.09011374]\n",
      " [3.57771261 3.73148902]]\n",
      "[3.75996096 4.0455556  3.74792827 ... 3.93519593 3.90551627 3.67265155]\n",
      "[[3.58156445 3.86387833]\n",
      " [3.58156445 4.30371009]\n",
      " [3.58156445 3.84534731]\n",
      " ...\n",
      " [3.57771261 4.13582208]\n",
      " [3.57771261 4.09011374]\n",
      " [3.57771261 3.73148902]]\n",
      "[3.83603393 4.25550371 3.81836081 ... 4.0919539  4.04836162 3.70633941]\n",
      "Rating Error for Naive Model 4: 0.9990551679838041 0.8046349196697907\n",
      "Rating Error for Naive Model 5: 0.9685420242710749 0.7695725613812983\n",
      "RMSE for Naive Model 4: 0.9994425883856181\n",
      "MAE for Naive Model 4: 0.8050624245250102\n",
      "RMSE for Naive Model 5: 0.9691106730479438\n",
      "MAE for Naive Model 5: 0.770341133274045\n"
     ]
    }
   ],
   "source": [
    "test_naive_model_4_5(data,200,False)"
   ]
  },
  {
   "cell_type": "markdown",
   "id": "7b0d8786",
   "metadata": {},
   "source": [
    "# UV decomposition"
   ]
  },
  {
   "cell_type": "code",
   "execution_count": 63,
   "id": "a1e54d93",
   "metadata": {},
   "outputs": [],
   "source": [
    "def initialUV(d,global_mean,global_std):\n",
    "    val = np.sqrt(global_mean/d)\n",
    "    std = np.sqrt(global_std/d)\n",
    "#     U = np.random.uniform(val-std,val+std,(6040,d))\n",
    "#     V = np.random.uniform(val-std,val+std,(d,3952))\n",
    "    U = np.random.uniform(val-std,val+std,(6040,d))\n",
    "    V = np.random.uniform(val-std,val+std,(d,3952))\n",
    "    return U,V\n",
    "\n",
    "\n",
    "def rmse_mae(U,V,M):\n",
    "    predict = np.matmul(U,V)\n",
    "    non_nan = np.count_nonzero(~np.isnan(predict-M))\n",
    "    rmse = np.sqrt(np.nansum((predict-M)**2)/non_nan)\n",
    "    mae = np.sqrt(np.nansum(np.abs(predict-M))/non_nan)\n",
    "    \n",
    "    return rmse,mae\n",
    "\n",
    "\n",
    "def updateU(U,V,M):\n",
    "    for r in range (len(U)):\n",
    "        for s in range ((len(U[0]))):\n",
    "            ##[SIGMA k!=s u_rk*v_kj,] for all j\n",
    "            sum_array=np.matmul(U[r,:],V[:])-(U[r,s]*V[s,:])\n",
    "            ##[m_ij-sum_array,] for all j\n",
    "            sub = M[r,:]-sum_array\n",
    "            ## SIGMA j v_sj*(m_ij-sum_array)\n",
    "            numerator = np.nansum(V[s,:]*sub)\n",
    "            \n",
    "            v_array=np.array(V[s,:])\n",
    "            v_array[np.isnan(M[r,:])]=np.nan\n",
    "            denominator=np.nansum(np.square(v_array))\n",
    "            \n",
    "            U[r,s] = (U[r,s]+(numerator/denominator))/2\n",
    "            #print('newU',U[r.s])\n",
    "            \n",
    "            \n",
    "def updateV(U,V,M):\n",
    "    for r in range (len(V)):\n",
    "        for s in range ((len(V[0]))):\n",
    "            ##[SIGMA k!=s u_rk*v_kj,] for all j\n",
    "            sum_array=np.matmul(U[:],V[:,s])-(U[:,r]*V[r,s])\n",
    "            ##[m_ij-sum_array,] for all j\n",
    "            sub = M[:,s]-sum_array\n",
    "            ## SIGMA j v_sj*(m_ij-sum_array)\n",
    "            numerator = np.nansum(U[:,r]*sub)\n",
    "            \n",
    "            u_array=np.array(U[:,r])\n",
    "            u_array[np.isnan(M[:,s])]=np.nan\n",
    "            denominator=np.nansum(np.square(u_array))\n",
    "            \n",
    "            V[r,s] = (V[r,s]+(numerator/denominator))/2\n",
    "            #print('newU',U[r.s])\n",
    "            \n",
    "            \n",
    "            \n",
    "def updateU_per(U,V,M):\n",
    "    n=np.random.permutation(range(len(U)))\n",
    "    m=np.random.permutation(range(len(U[0])))\n",
    "    for r in n:\n",
    "        for s in m:\n",
    "            ##[SIGMA k!=s u_rk*v_kj,] for all j\n",
    "            sum_array=np.matmul(U[r,:],V[:])-(U[r,s]*V[s,:])\n",
    "            ##[m_ij-sum_array,] for all j\n",
    "            sub = M[r,:]-sum_array\n",
    "            ## SIGMA j v_sj*(m_ij-sum_array)\n",
    "            numerator = np.nansum(V[s,:]*sub)\n",
    "            \n",
    "            v_array=np.array(V[s,:])\n",
    "            v_array[np.isnan(M[r,:])]=np.nan\n",
    "            denominator=np.nansum(np.square(v_array))\n",
    "            \n",
    "            U[r,s] = (U[r,s]+(numerator/denominator))/2\n",
    "            #print('newU',U[r.s])\n",
    "            \n",
    "            \n",
    "def updateV_per(U,V,M):\n",
    "    n=np.random.permutation(range(len(V)))\n",
    "    m=np.random.permutation(range(len(V[0])))\n",
    "    for r in n:\n",
    "        for s in m:\n",
    "            ##[SIGMA k!=s u_rk*v_kj,] for all j\n",
    "            sum_array=np.matmul(U[:],V[:,s])-(U[:,r]*V[r,s])\n",
    "            ##[m_ij-sum_array,] for all j\n",
    "            sub = M[:,s]-sum_array\n",
    "            ## SIGMA j v_sj*(m_ij-sum_array)\n",
    "            numerator = np.nansum(U[:,r]*sub)\n",
    "            \n",
    "            u_array=np.array(U[:,r])\n",
    "            u_array[np.isnan(M[:,s])]=np.nan\n",
    "            denominator=np.nansum(np.square(u_array))\n",
    "            \n",
    "            V[r,s] = (V[r,s]+(numerator/denominator))/2\n",
    "            #print('newU',U[r.s])"
   ]
  },
  {
   "cell_type": "code",
   "execution_count": 69,
   "id": "7e96cea3",
   "metadata": {},
   "outputs": [],
   "source": [
    "def convert2matrices(data):\n",
    "    users, movies, ratings = data\n",
    "    d = 10\n",
    "    cv = KFold(n_splits=5, random_state=42, shuffle=True)\n",
    "\n",
    "    rating_errors = np.array([])\n",
    "    matrices_train = []\n",
    "    matrices_test = []\n",
    "\n",
    "\n",
    "    for train_index, test_index in cv.split(ratings):\n",
    "        train_set = ratings.iloc[train_index]\n",
    "        test_set = ratings.iloc[test_index]\n",
    "\n",
    "\n",
    "        ##create a matrix with #row = numbers of user and #column = # movie , and fill it in with np.nan\n",
    "        rating_matrix_train = np.full((len(users),3952),np.nan)\n",
    "        rating_matrix_test = np.full((len(users),3952),np.nan)\n",
    "\n",
    "\n",
    "        for i in range (len(train_set)):\n",
    "            rating = train_set.iloc[i]\n",
    "            rating_matrix_train[rating['UserID']-1][rating['MovieID']-1]=rating['Rating']\n",
    "\n",
    "        for i in range (len(test_set)):\n",
    "            rating = test_set.iloc[i]\n",
    "            rating_matrix_test[rating['UserID']-1][rating['MovieID']-1]=rating['Rating']\n",
    "\n",
    "        matrices_train.append(rating_matrix_train)\n",
    "        matrices_test.append(rating_matrix_test)\n",
    "    return matrices_train,matrices_test\n",
    "\n",
    "def uv_decomposition(epochs,matrices_train,matrices_test,permutation):\n",
    "    ##calculate the global mean for the initial value in the U,V matrix.\n",
    "    global_mean = ratings['Rating'].mean()\n",
    "    global_std = ratings['Rating'].std()\n",
    "\n",
    "    U,V = initialUV(2,global_mean,global_std)\n",
    "\n",
    "    ##calculate the number of nonblank values in the training matrix and test matrix\n",
    "    non_nan_train = np.count_nonzero(~np.isnan(matrices_train[0]))\n",
    "    non_nan_test = np.count_nonzero(~np.isnan(matrices_test[0]))\n",
    "\n",
    "    rmse,mae = rmse_mae(U,V,matrices_train[0])\n",
    "    print('initial_rmse',rmse)\n",
    "    print('initial_mae',mae)\n",
    "\n",
    "    rmse,mae = rmse_mae(U,V,matrices_test[0])\n",
    "    print('initial_rmse_test',rmse)\n",
    "    print('initial_mae_test',mae)\n",
    "\n",
    "    rmse_list_train_mean=[]\n",
    "    mae_list_train_mean=[]\n",
    "    rmse_list_test_mean=[]\n",
    "    mae_list_test_mean=[]\n",
    "    for i in range (epochs):\n",
    "        for j in range (5):\n",
    "            rmse_list_train=[]\n",
    "            mae_list_train=[]\n",
    "            rmse_list_test=[]\n",
    "            mae_list_test=[]\n",
    "            if permutation:\n",
    "                updateU_per(U,V,matrices_train[j])\n",
    "                updateV_per(U,V,matrices_train[j])\n",
    "            \n",
    "            else:\n",
    "                updateU(U,V,matrices_train[j])\n",
    "                updateV(U,V,matrices_train[j])\n",
    "            rmse,mae = rmse_mae(U,V,matrices_train[j])\n",
    "            rmse_test,mae_test = rmse_mae(U,V,matrices_test[j])\n",
    "            rmse_list_train.append(rmse)\n",
    "            mae_list_train.append(mae)\n",
    "            rmse_list_test.append(rmse_test)\n",
    "            mae_list_test.append(mae_test)\n",
    "        \n",
    "        rmse_train_mean = np.mean(np.array(rmse_list_train))\n",
    "        mae_train_mean = np.mean(np.array(mae_list_train))\n",
    "        rmse_test_mean = np.mean(np.array(rmse_list_test))\n",
    "        mae_test_mean = np.mean(np.array(mae_list_test))\n",
    "        \n",
    "            \n",
    "        rmse_list_train_mean.append(rmse_train_mean)\n",
    "        mae_list_train_mean.append(mae_train_mean)\n",
    "        rmse_list_test_mean.append(rmse_test_mean)\n",
    "        mae_list_test_mean.append(mae_test_mean)\n",
    "    \n",
    "    return rmse_list_train_mean,mae_list_train_mean,rmse_list_test_mean,mae_list_test_mean\n",
    "    \n",
    "    \n",
    "    \n"
   ]
  },
  {
   "cell_type": "code",
   "execution_count": 70,
   "id": "27c4abff",
   "metadata": {},
   "outputs": [
    {
     "ename": "KeyboardInterrupt",
     "evalue": "",
     "output_type": "error",
     "traceback": [
      "\u001b[0;31m---------------------------------------------------------------------------\u001b[0m",
      "\u001b[0;31mKeyboardInterrupt\u001b[0m                         Traceback (most recent call last)",
      "\u001b[0;32m<ipython-input-70-9622963ae634>\u001b[0m in \u001b[0;36m<module>\u001b[0;34m\u001b[0m\n\u001b[0;32m----> 1\u001b[0;31m \u001b[0mmatrices_train\u001b[0m\u001b[0;34m,\u001b[0m\u001b[0mmatrices_test\u001b[0m \u001b[0;34m=\u001b[0m \u001b[0mconvert2matrices\u001b[0m\u001b[0;34m(\u001b[0m\u001b[0mdata\u001b[0m\u001b[0;34m)\u001b[0m\u001b[0;34m\u001b[0m\u001b[0;34m\u001b[0m\u001b[0m\n\u001b[0m",
      "\u001b[0;32m<ipython-input-69-97488c0af825>\u001b[0m in \u001b[0;36mconvert2matrices\u001b[0;34m(data)\u001b[0m\n\u001b[1;32m     20\u001b[0m \u001b[0;34m\u001b[0m\u001b[0m\n\u001b[1;32m     21\u001b[0m         \u001b[0;32mfor\u001b[0m \u001b[0mi\u001b[0m \u001b[0;32min\u001b[0m \u001b[0mrange\u001b[0m \u001b[0;34m(\u001b[0m\u001b[0mlen\u001b[0m\u001b[0;34m(\u001b[0m\u001b[0mtrain_set\u001b[0m\u001b[0;34m)\u001b[0m\u001b[0;34m)\u001b[0m\u001b[0;34m:\u001b[0m\u001b[0;34m\u001b[0m\u001b[0;34m\u001b[0m\u001b[0m\n\u001b[0;32m---> 22\u001b[0;31m             \u001b[0mrating\u001b[0m \u001b[0;34m=\u001b[0m \u001b[0mtrain_set\u001b[0m\u001b[0;34m.\u001b[0m\u001b[0miloc\u001b[0m\u001b[0;34m[\u001b[0m\u001b[0mi\u001b[0m\u001b[0;34m]\u001b[0m\u001b[0;34m\u001b[0m\u001b[0;34m\u001b[0m\u001b[0m\n\u001b[0m\u001b[1;32m     23\u001b[0m             \u001b[0mrating_matrix_train\u001b[0m\u001b[0;34m[\u001b[0m\u001b[0mrating\u001b[0m\u001b[0;34m[\u001b[0m\u001b[0;34m'UserID'\u001b[0m\u001b[0;34m]\u001b[0m\u001b[0;34m-\u001b[0m\u001b[0;36m1\u001b[0m\u001b[0;34m]\u001b[0m\u001b[0;34m[\u001b[0m\u001b[0mrating\u001b[0m\u001b[0;34m[\u001b[0m\u001b[0;34m'MovieID'\u001b[0m\u001b[0;34m]\u001b[0m\u001b[0;34m-\u001b[0m\u001b[0;36m1\u001b[0m\u001b[0;34m]\u001b[0m\u001b[0;34m=\u001b[0m\u001b[0mrating\u001b[0m\u001b[0;34m[\u001b[0m\u001b[0;34m'Rating'\u001b[0m\u001b[0;34m]\u001b[0m\u001b[0;34m\u001b[0m\u001b[0;34m\u001b[0m\u001b[0m\n\u001b[1;32m     24\u001b[0m \u001b[0;34m\u001b[0m\u001b[0m\n",
      "\u001b[0;32m~/anaconda3/lib/python3.8/site-packages/pandas/core/indexing.py\u001b[0m in \u001b[0;36m__getitem__\u001b[0;34m(self, key)\u001b[0m\n\u001b[1;32m    893\u001b[0m \u001b[0;34m\u001b[0m\u001b[0m\n\u001b[1;32m    894\u001b[0m             \u001b[0mmaybe_callable\u001b[0m \u001b[0;34m=\u001b[0m \u001b[0mcom\u001b[0m\u001b[0;34m.\u001b[0m\u001b[0mapply_if_callable\u001b[0m\u001b[0;34m(\u001b[0m\u001b[0mkey\u001b[0m\u001b[0;34m,\u001b[0m \u001b[0mself\u001b[0m\u001b[0;34m.\u001b[0m\u001b[0mobj\u001b[0m\u001b[0;34m)\u001b[0m\u001b[0;34m\u001b[0m\u001b[0;34m\u001b[0m\u001b[0m\n\u001b[0;32m--> 895\u001b[0;31m             \u001b[0;32mreturn\u001b[0m \u001b[0mself\u001b[0m\u001b[0;34m.\u001b[0m\u001b[0m_getitem_axis\u001b[0m\u001b[0;34m(\u001b[0m\u001b[0mmaybe_callable\u001b[0m\u001b[0;34m,\u001b[0m \u001b[0maxis\u001b[0m\u001b[0;34m=\u001b[0m\u001b[0maxis\u001b[0m\u001b[0;34m)\u001b[0m\u001b[0;34m\u001b[0m\u001b[0;34m\u001b[0m\u001b[0m\n\u001b[0m\u001b[1;32m    896\u001b[0m \u001b[0;34m\u001b[0m\u001b[0m\n\u001b[1;32m    897\u001b[0m     \u001b[0;32mdef\u001b[0m \u001b[0m_is_scalar_access\u001b[0m\u001b[0;34m(\u001b[0m\u001b[0mself\u001b[0m\u001b[0;34m,\u001b[0m \u001b[0mkey\u001b[0m\u001b[0;34m:\u001b[0m \u001b[0mTuple\u001b[0m\u001b[0;34m)\u001b[0m\u001b[0;34m:\u001b[0m\u001b[0;34m\u001b[0m\u001b[0;34m\u001b[0m\u001b[0m\n",
      "\u001b[0;32m~/anaconda3/lib/python3.8/site-packages/pandas/core/indexing.py\u001b[0m in \u001b[0;36m_getitem_axis\u001b[0;34m(self, key, axis)\u001b[0m\n\u001b[1;32m   1489\u001b[0m \u001b[0;34m\u001b[0m\u001b[0m\n\u001b[1;32m   1490\u001b[0m         \u001b[0;31m# a list of integers\u001b[0m\u001b[0;34m\u001b[0m\u001b[0;34m\u001b[0m\u001b[0;34m\u001b[0m\u001b[0m\n\u001b[0;32m-> 1491\u001b[0;31m         \u001b[0;32melif\u001b[0m \u001b[0mis_list_like_indexer\u001b[0m\u001b[0;34m(\u001b[0m\u001b[0mkey\u001b[0m\u001b[0;34m)\u001b[0m\u001b[0;34m:\u001b[0m\u001b[0;34m\u001b[0m\u001b[0;34m\u001b[0m\u001b[0m\n\u001b[0m\u001b[1;32m   1492\u001b[0m             \u001b[0;32mreturn\u001b[0m \u001b[0mself\u001b[0m\u001b[0;34m.\u001b[0m\u001b[0m_get_list_axis\u001b[0m\u001b[0;34m(\u001b[0m\u001b[0mkey\u001b[0m\u001b[0;34m,\u001b[0m \u001b[0maxis\u001b[0m\u001b[0;34m=\u001b[0m\u001b[0maxis\u001b[0m\u001b[0;34m)\u001b[0m\u001b[0;34m\u001b[0m\u001b[0;34m\u001b[0m\u001b[0m\n\u001b[1;32m   1493\u001b[0m \u001b[0;34m\u001b[0m\u001b[0m\n",
      "\u001b[0;31mKeyboardInterrupt\u001b[0m: "
     ]
    }
   ],
   "source": [
    "matrices_train,matrices_test = convert2matrices(data)"
   ]
  },
  {
   "cell_type": "markdown",
   "id": "84b07523",
   "metadata": {},
   "source": [
    "uv decomposition without permutation"
   ]
  },
  {
   "cell_type": "code",
   "execution_count": 90,
   "id": "e76f99eb",
   "metadata": {},
   "outputs": [
    {
     "name": "stdout",
     "output_type": "stream",
     "text": [
      "initial_rmse 1.6436728445748015\n",
      "initial_mae 1.1526596167329608\n",
      "initial_rmse_test 1.6460291650179883\n",
      "initial_mae_test 1.153388531893504\n"
     ]
    },
    {
     "name": "stderr",
     "output_type": "stream",
     "text": [
      "<ipython-input-63-6bd7b300e14f>:52: RuntimeWarning: invalid value encountered in double_scalars\n",
      "  V[r,s] = (V[r,s]+(numerator/denominator))/2\n"
     ]
    }
   ],
   "source": [
    "start = time.time()\n",
    "rmse_train,mae_train,rmse_test,mae_test = uv_decomposition(25,matrices_train,matrices_test,False)\n",
    "end = time.time()\n",
    "print('Time Required:', start-end)"
   ]
  },
  {
   "cell_type": "code",
   "execution_count": 91,
   "id": "b0a58e87",
   "metadata": {},
   "outputs": [
    {
     "name": "stdout",
     "output_type": "stream",
     "text": [
      "initial_rmse 1.6188608375663363\n",
      "initial_mae 1.1432674048779068\n",
      "initial_rmse_test 1.6177146389461243\n",
      "initial_mae_test 1.142703416334857\n"
     ]
    },
    {
     "name": "stderr",
     "output_type": "stream",
     "text": [
      "<ipython-input-63-6bd7b300e14f>:93: RuntimeWarning: invalid value encountered in double_scalars\n",
      "  V[r,s] = (V[r,s]+(numerator/denominator))/2\n"
     ]
    }
   ],
   "source": [
    "start = time.time()\n",
    "rmse_train_per,mae_train_per,rmse_test_per,mae_test_per = uv_decomposition(25,matrices_train,matrices_test,True)\n",
    "end = time.time()\n",
    "print('Time Required:', start-end)"
   ]
  },
  {
   "cell_type": "code",
   "execution_count": 96,
   "id": "75e7a694",
   "metadata": {},
   "outputs": [
    {
     "data": {
      "image/png": "[encoded data removed]",
      "text/plain": [
       "<Figure size 576x432 with 1 Axes>"
      ]
     },
     "metadata": {
      "needs_background": "light"
     },
     "output_type": "display_data"
    }
   ],
   "source": [
    "epochs = np.arange(0,25,1)\n",
    "fig = plt.figure(figsize=(8,6))\n",
    "plt.plot(epochs,rmse_train,label='rmse_train')\n",
    "plt.plot(epochs,mae_train,label='mae_train')\n",
    "plt.plot(epochs,rmse_test,label='rmse_test')\n",
    "plt.plot(epochs,mae_test,label='mae_test')\n",
    "\n",
    "plt.plot(epochs,rmse_train_per,label='rmse_train_per')\n",
    "plt.plot(epochs,mae_train_per,label='mae_train_per')\n",
    "plt.plot(epochs,rmse_test_per,label='rmse_test_per')\n",
    "plt.plot(epochs,mae_test_per,label='mae_test_per')\n",
    "\n",
    "plt.xlabel('Epoch',fontsize=15)\n",
    "plt.ylabel('MSE or MAE',fontsize=15)\n",
    "\n",
    "plt.legend()\n",
    "plt.tight_layout()\n",
    "fig.savefig('uvdecom.pdf')\n",
    "\n"
   ]
  },
  {
   "cell_type": "code",
   "execution_count": null,
   "id": "8f8fae0e",
   "metadata": {},
   "outputs": [],
   "source": []
  }
 ],
 "metadata": {
  "kernelspec": {
   "display_name": "Python 3",
   "language": "python",
   "name": "python3"
  },
  "language_info": {
   "codemirror_mode": {
    "name": "ipython",
    "version": 3
   },
   "file_extension": ".py",
   "mimetype": "text/x-python",
   "name": "python",
   "nbconvert_exporter": "python",
   "pygments_lexer": "ipython3",
   "version": "3.8.8"
  }
 },
 "nbformat": 4,
 "nbformat_minor": 5
}
