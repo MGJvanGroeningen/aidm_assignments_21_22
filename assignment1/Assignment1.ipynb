{
 "cells": [
  {
   "cell_type": "code",
   "execution_count": 1,
   "metadata": {},
   "outputs": [],
   "source": [
    "import numpy as np\n",
    "import matplotlib.pyplot as plt\n",
    "import pandas as pd\n",
    "import os\n",
    "from sklearn.model_selection import KFold"
   ]
  },
  {
   "cell_type": "code",
   "execution_count": 2,
   "metadata": {},
   "outputs": [],
   "source": [
    "data_dir = 'ml-1m'\n",
    "\n",
    "movies_filename = 'movies.dat'\n",
    "users_filename = 'users.dat'\n",
    "ratings_filename = 'ratings.dat'\n",
    "\n",
    "movies_columns = ['MovieID', 'Title', 'Genres']\n",
    "users_columns = ['UserID', 'Gender', 'Age', 'Occupation', 'Zip-code']\n",
    "ratings_columns = ['UserID', 'MovieID', 'Rating', 'Timestamp']\n",
    "\n",
    "def create_dataframe(data_dir, filename, columns):\n",
    "    data_file = os.path.join(data_dir, filename)\n",
    "    return pd.read_csv(data_file, delimiter='::', names=columns, encoding='latin-1', engine='python')\n",
    "\n",
    "movies = create_dataframe(data_dir, movies_filename, movies_columns)\n",
    "users = create_dataframe(data_dir, users_filename, users_columns)\n",
    "ratings = create_dataframe(data_dir, ratings_filename, ratings_columns)\n",
    "data = (users, movies, ratings)"
   ]
  },
  {
   "cell_type": "code",
   "execution_count": 3,
   "metadata": {},
   "outputs": [],
   "source": [
    "def rating_error(test_set, model, subset:int=None):\n",
    "    if subset is not None:\n",
    "        actual_ratings = test_set[:subset]['Rating']\n",
    "        predicted_ratings = test_set[:subset].apply(model, axis=1)\n",
    "    else:\n",
    "        actual_ratings = test_set['Rating']\n",
    "        predicted_ratings = test_set.apply(model, axis=1)\n",
    "\n",
    "    rating_error = (((actual_ratings - predicted_ratings)**2)**(1/2)).mean()\n",
    "    return rating_error"
   ]
  },
  {
   "cell_type": "code",
   "execution_count": 4,
   "metadata": {},
   "outputs": [],
   "source": [
    "# Overall mean rating \n",
    "mean_rating = ratings['Rating'].mean()\n",
    "\n",
    "# Lookup tables for naive models 2, 3, 4 and 5\n",
    "mean_rating_per_user = {user_id : ratings[ratings['UserID'] == user_id]['Rating'].mean() for user_id in users['UserID']}\n",
    "mean_rating_per_movie = {movie_id : ratings[ratings['MovieID'] == movie_id]['Rating'].mean() for movie_id in movies['MovieID']}"
   ]
  },
  {
   "cell_type": "code",
   "execution_count": 9,
   "metadata": {},
   "outputs": [
    {
     "name": "stdout",
     "output_type": "stream",
     "text": [
      "0.9359537758745168\n",
      "0.9324886151989458\n",
      "0.9329462018200365\n",
      "0.9342986262098775\n",
      "0.9336170940478655\n",
      "mean error 0.9338608626302485\n"
     ]
    }
   ],
   "source": [
    "def test_naive_model_1(data, subset:int=None):\n",
    "    users, movies, ratings = data\n",
    "    \n",
    "    cv = KFold(n_splits=5, random_state=42, shuffle=True)\n",
    "    \n",
    "    rating_errors = np.array([])\n",
    "        \n",
    "    for train_index, test_index in cv.split(ratings):\n",
    "        train_set = ratings.iloc[train_index]\n",
    "        test_set = ratings.iloc[test_index]\n",
    "        \n",
    "        def model(row):\n",
    "            return mean_rating\n",
    "        \n",
    "        rating_err = rating_error(test_set, model, subset)\n",
    "        print(rating_err)\n",
    "        \n",
    "        rating_errors = np.append(rating_errors, rating_err)\n",
    "    return rating_errors\n",
    "\n",
    "errors = test_naive_model_1(data)\n",
    "mean_error = np.mean(errors)\n",
    "print('mean error', mean_error)"
   ]
  },
  {
   "cell_type": "code",
   "execution_count": 10,
   "metadata": {},
   "outputs": [
    {
     "name": "stdout",
     "output_type": "stream",
     "text": [
      "0.7819195225943636\n",
      "0.7773937437159162\n",
      "0.7766372708853828\n",
      "0.7783511548410555\n",
      "0.7796494048919831\n",
      "mean error 0.7787902193857402\n"
     ]
    }
   ],
   "source": [
    "def test_naive_model_2(data, subset:int=None):\n",
    "    users, movies, ratings = data\n",
    "    \n",
    "    cv = KFold(n_splits=5, random_state=42, shuffle=True)\n",
    "    \n",
    "    rating_errors = np.array([])\n",
    "        \n",
    "    for train_index, test_index in cv.split(ratings):\n",
    "        train_set = ratings.iloc[train_index]\n",
    "        test_set = ratings.iloc[test_index]\n",
    "        movie_ids = train_set['MovieID']\n",
    "        \n",
    "        def model(row):\n",
    "            movie_id = row['MovieID']\n",
    "            return mean_rating_per_movie[movie_id]\n",
    "        \n",
    "        rating_err = rating_error(test_set, model, subset)\n",
    "        print(rating_err)\n",
    "        \n",
    "        rating_errors = np.append(rating_errors, rating_err)\n",
    "    return rating_errors\n",
    "\n",
    "errors = test_naive_model_2(data)\n",
    "mean_error = np.mean(errors)\n",
    "print('mean error', mean_error)"
   ]
  },
  {
   "cell_type": "code",
   "execution_count": 11,
   "metadata": {},
   "outputs": [
    {
     "name": "stdout",
     "output_type": "stream",
     "text": [
      "0.8273561501877884\n",
      "0.8213722632136515\n",
      "0.822436934775629\n",
      "0.8233405865315825\n",
      "0.8225786635080318\n",
      "mean error 0.8234169196433367\n"
     ]
    }
   ],
   "source": [
    "def test_naive_model_3(data, subset:int=None):\n",
    "    users, movies, ratings = data\n",
    "    \n",
    "    cv = KFold(n_splits=5, random_state=42, shuffle=True)\n",
    "    \n",
    "    rating_errors = np.array([])\n",
    "        \n",
    "    for train_index, test_index in cv.split(ratings):\n",
    "        train_set = ratings.iloc[train_index]\n",
    "        test_set = ratings.iloc[test_index]\n",
    "        user_ids = train_set['UserID']\n",
    "        \n",
    "        def model(row):\n",
    "            user_id = row['UserID']\n",
    "            return mean_rating_per_user[user_id]\n",
    "        \n",
    "        rating_err = rating_error(test_set, model, subset)\n",
    "        print(rating_err)\n",
    "        \n",
    "        rating_errors = np.append(rating_errors, rating_err)\n",
    "    return rating_errors\n",
    "\n",
    "errors = test_naive_model_3(data)\n",
    "mean_error = np.mean(errors)\n",
    "print('mean error', mean_error)"
   ]
  }
 ],
 "metadata": {
  "kernelspec": {
   "display_name": "Python 3",
   "language": "python",
   "name": "python3"
  },
  "language_info": {
   "codemirror_mode": {
    "name": "ipython",
    "version": 3
   },
   "file_extension": ".py",
   "mimetype": "text/x-python",
   "name": "python",
   "nbconvert_exporter": "python",
   "pygments_lexer": "ipython3",
   "version": "3.8.3"
  }
 },
 "nbformat": 4,
 "nbformat_minor": 5
}
