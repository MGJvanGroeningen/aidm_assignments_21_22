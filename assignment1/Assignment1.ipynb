{
 "cells": [
  {
   "cell_type": "code",
   "execution_count": 1,
   "metadata": {},
   "outputs": [],
   "source": [
    "import numpy as np\n",
    "import matplotlib.pyplot as plt\n",
    "import pandas as pd\n",
    "import os\n",
    "from sklearn.model_selection import KFold\n",
    "from sklearn.linear_model import LinearRegression"
   ]
  },
  {
   "cell_type": "code",
   "execution_count": 2,
   "metadata": {},
   "outputs": [],
   "source": [
    "data_dir = 'ml-1m'\n",
    "\n",
    "movies_filename = 'movies.dat'\n",
    "users_filename = 'users.dat'\n",
    "ratings_filename = 'ratings.dat'\n",
    "\n",
    "movies_columns = ['MovieID', 'Title', 'Genres']\n",
    "users_columns = ['UserID', 'Gender', 'Age', 'Occupation', 'Zip-code']\n",
    "ratings_columns = ['UserID', 'MovieID', 'Rating', 'Timestamp']\n",
    "\n",
    "def create_dataframe(data_dir, filename, columns):\n",
    "    data_file = os.path.join(data_dir, filename)\n",
    "    return pd.read_csv(data_file, delimiter='::', names=columns, encoding='latin-1', engine='python')\n",
    "\n",
    "movies = create_dataframe(data_dir, movies_filename, movies_columns)\n",
    "users = create_dataframe(data_dir, users_filename, users_columns)\n",
    "ratings = create_dataframe(data_dir, ratings_filename, ratings_columns)\n",
    "data = (users, movies, ratings)"
   ]
  },
  {
   "cell_type": "code",
   "execution_count": 3,
   "metadata": {},
   "outputs": [],
   "source": [
    "def rating_error(test_set, model, subset:int=None):\n",
    "    if subset is not None:\n",
    "        actual_ratings = test_set[:subset]['Rating']\n",
    "        predicted_ratings = test_set[:subset].apply(model, axis=1)\n",
    "    else:\n",
    "        actual_ratings = test_set['Rating']\n",
    "        predicted_ratings = test_set.apply(model, axis=1)\n",
    "\n",
    "    rating_error = (((actual_ratings - predicted_ratings)**2)**(1/2)).mean()\n",
    "    return rating_error"
   ]
  },
  {
   "cell_type": "code",
   "execution_count": 4,
   "metadata": {},
   "outputs": [],
   "source": [
    "# Overall mean rating \n",
    "mean_rating = ratings['Rating'].mean()\n",
    "\n",
    "# Lookup tables for naive models 2, 3, 4 and 5\n",
    "mean_rating_per_user = {user_id : ratings[ratings['UserID'] == user_id]['Rating'].mean() for user_id in users['UserID']}\n",
    "mean_rating_per_movie = {movie_id : ratings[ratings['MovieID'] == movie_id]['Rating'].mean() for movie_id in movies['MovieID']}"
   ]
  },
  {
   "cell_type": "code",
   "execution_count": 5,
   "metadata": {},
   "outputs": [
    {
     "name": "stdout",
     "output_type": "stream",
     "text": [
      "0.935986633921368\n",
      "0.9326130200574327\n",
      "0.9328028300165171\n",
      "0.9342782982805649\n",
      "0.9336288110062256\n",
      "mean error 0.9338619186564217\n"
     ]
    }
   ],
   "source": [
    "def test_naive_model_1(data, subset:int=None):\n",
    "    users, movies, ratings = data\n",
    "    \n",
    "    cv = KFold(n_splits=5, random_state=42, shuffle=True)\n",
    "    \n",
    "    rating_errors = np.array([])\n",
    "        \n",
    "    for train_index, test_index in cv.split(ratings):\n",
    "        train_set = ratings.iloc[train_index]\n",
    "        test_set = ratings.iloc[test_index]\n",
    "        mean_rating = train_set['Rating'].mean()\n",
    "        \n",
    "        def model(row):\n",
    "            return mean_rating\n",
    "        \n",
    "        rating_err = rating_error(test_set, model, subset)\n",
    "        print(rating_err)\n",
    "        \n",
    "        rating_errors = np.append(rating_errors, rating_err)\n",
    "    return rating_errors\n",
    "\n",
    "errors = test_naive_model_1(data)\n",
    "mean_error = np.mean(errors)\n",
    "print('mean error', mean_error)"
   ]
  },
  {
   "cell_type": "code",
   "execution_count": 6,
   "metadata": {},
   "outputs": [
    {
     "name": "stdout",
     "output_type": "stream",
     "text": [
      "0.7851107461333201\n",
      "0.7811089925858026\n",
      "0.7799034947667455\n",
      "0.7818160318057912\n",
      "0.7831246014171904\n",
      "mean error 0.78221277334177\n"
     ]
    }
   ],
   "source": [
    "def test_naive_model_2(data, subset:int=None):\n",
    "    users, movies, ratings = data\n",
    "    \n",
    "    cv = KFold(n_splits=5, random_state=42, shuffle=True)\n",
    "    \n",
    "    rating_errors = np.array([])\n",
    "        \n",
    "    for train_index, test_index in cv.split(ratings):\n",
    "        train_set = ratings.iloc[train_index]\n",
    "        test_set = ratings.iloc[test_index]\n",
    "        movie_ids = train_set['MovieID']\n",
    "        mean_rating_per_movie = {movie_id : train_set[train_set['MovieID'] == movie_id]['Rating'].mean() for movie_id in movies['MovieID']}\n",
    "        \n",
    "        def model(row):\n",
    "            movie_id = row['MovieID']\n",
    "            return mean_rating_per_movie[movie_id]\n",
    "        \n",
    "        rating_err = rating_error(test_set, model, subset)\n",
    "        print(rating_err)\n",
    "        \n",
    "        rating_errors = np.append(rating_errors, rating_err)\n",
    "    return rating_errors\n",
    "\n",
    "errors = test_naive_model_2(data)\n",
    "mean_error = np.mean(errors)\n",
    "print('mean error', mean_error)"
   ]
  },
  {
   "cell_type": "code",
   "execution_count": 7,
   "metadata": {},
   "outputs": [
    {
     "name": "stdout",
     "output_type": "stream",
     "text": [
      "0.8329949719978802\n",
      "0.8266677994054135\n",
      "0.8281312090560236\n",
      "0.828891912964882\n",
      "0.8280632808182781\n",
      "mean error 0.8289498348484955\n"
     ]
    }
   ],
   "source": [
    "def test_naive_model_3(data, subset:int=None):\n",
    "    users, movies, ratings = data\n",
    "    \n",
    "    cv = KFold(n_splits=5, random_state=42, shuffle=True)\n",
    "    \n",
    "    rating_errors = np.array([])\n",
    "        \n",
    "    for train_index, test_index in cv.split(ratings):\n",
    "        train_set = ratings.iloc[train_index]\n",
    "        test_set = ratings.iloc[test_index]\n",
    "        user_ids = train_set['UserID']\n",
    "        mean_rating_per_user = {user_id : train_set[train_set['UserID'] == user_id]['Rating'].mean() for user_id in users['UserID']}\n",
    "        \n",
    "        def model(row):\n",
    "            user_id = row['UserID']\n",
    "            return mean_rating_per_user[user_id]\n",
    "        \n",
    "        rating_err = rating_error(test_set, model, subset)\n",
    "        print(rating_err)\n",
    "        \n",
    "        rating_errors = np.append(rating_errors, rating_err)\n",
    "    return rating_errors\n",
    "\n",
    "errors = test_naive_model_3(data)\n",
    "mean_error = np.mean(errors)\n",
    "print('mean error', mean_error)"
   ]
  },
  {
   "cell_type": "code",
   "execution_count": 8,
   "metadata": {},
   "outputs": [],
   "source": [
    "def test_error_4_5(test_set,reg):\n",
    "    \n",
    "    mean_rating_per_movie_list = np.array([mean_rating_per_movie[movie_id] for movie_id in test_set['MovieID']])\n",
    "    mean_rating_per_user_list = np.array([mean_rating_per_user[user_id] for user_id in test_set['UserID']])\n",
    "    \n",
    "    ##the predicted rating value for the test set using model 4 and 5.\n",
    "    mean_rating_list = np.vstack((mean_rating_per_movie_list,mean_rating_per_user_list)).T\n",
    "    pre_rating = reg.predict(mean_rating_list)[0]\n",
    "    \n",
    "    rating_error = (((test_set['Rating'] - pre_rating)**2)**(1/2)).mean()\n",
    "    \n",
    "    return rating_error\n",
    "    \n",
    "    "
   ]
  },
  {
   "cell_type": "code",
   "execution_count": 9,
   "metadata": {},
   "outputs": [],
   "source": [
    "def test_naive_model_4_5(data, subset:int=None):\n",
    "    users, movies, ratings = data\n",
    "    \n",
    "    cv = KFold(n_splits=5, random_state=42, shuffle=True)\n",
    "    \n",
    "    rating_errors_4 = np.array([])\n",
    "    rating_errors_5 = np.array([])\n",
    "    \n",
    "        \n",
    "    for train_index, test_index in cv.split(ratings):\n",
    "        train_set = ratings.iloc[train_index]\n",
    "        test_set = ratings.iloc[test_index]\n",
    "        user_ids = train_set['UserID']\n",
    "        \n",
    "        mean_rating_per_movie = {movie_id : train_set[train_set['MovieID'] == movie_id]['Rating'].mean() for movie_id in movies['MovieID']}\n",
    "        mean_rating_per_user = {user_id : train_set[train_set['UserID'] == user_id]['Rating'].mean() for user_id in users['UserID']}\n",
    "        \n",
    "        \n",
    "        ##the lists of mean Ritem and mean Ruser for each rating in the train_set\n",
    "        mean_rating_per_movie_list = np.array([mean_rating_per_movie[movie_id] for movie_id in train_set['MovieID']])\n",
    "        mean_rating_per_user_list = np.array([mean_rating_per_user[user_id] for user_id in train_set['UserID']])\n",
    "        \n",
    "        ## stack the Ritem and Ruser lists for linear fitting\n",
    "        mean_rating_list = np.vstack((mean_rating_per_movie_list, mean_rating_per_user_list)).T\n",
    "        \n",
    "        ## uisng Ordinary least squares Linear Regression to find alpha beta and gamma\n",
    "        reg_4 = LinearRegression(fit_intercept=False).fit(mean_rating_list, train_set['Rating'])\n",
    "        reg_5 = LinearRegression(fit_intercept=True).fit(mean_rating_list, train_set['Rating'])\n",
    "\n",
    "        \n",
    "        rating_err_4 = test_error_4_5(test_set,reg_4)\n",
    "        rating_err_5 = test_error_4_5(test_set,reg_5)\n",
    "        \n",
    "        rating_errors_4 = np.append(rating_errors_4,rating_err_4)\n",
    "        rating_errors_5 = np.append(rating_errors_5,rating_err_5)\n",
    "        \n",
    "        print('Rating Error for Naive Model 4:', rating_err_4)\n",
    "        print('Rating Error for Naive Model 5:', rating_err_5)\n",
    "    \n",
    "    print('Mean Rating Error for Naive Model 4:', np.mean(rating_errors_4))   \n",
    "    print('Mean Rating Error for Naive Model 5:', np.mean(rating_errors_5))\n",
    "        \n",
    "        \n",
    "        "
   ]
  },
  {
   "cell_type": "code",
   "execution_count": 10,
   "metadata": {},
   "outputs": [
    {
     "name": "stdout",
     "output_type": "stream",
     "text": [
      "Rating Error for Naive Model 4: 1.061734266640631\n",
      "Rating Error for Naive Model 5: 1.2885178881759964\n",
      "Rating Error for Naive Model 4: 0.9610577067705951\n",
      "Rating Error for Naive Model 5: 1.1533333933063303\n",
      "Rating Error for Naive Model 4: 0.9797571412885032\n",
      "Rating Error for Naive Model 5: 1.1785465747294663\n",
      "Rating Error for Naive Model 4: 0.9078356828163895\n",
      "Rating Error for Naive Model 5: 0.877873484900148\n",
      "Rating Error for Naive Model 4: 0.8764768455823497\n",
      "Rating Error for Naive Model 5: 1.036442648874387\n",
      "Mean Rating Error for Naive Model 4: 0.9573723286196938\n",
      "Mean Rating Error for Naive Model 5: 1.1069427979972657\n"
     ]
    }
   ],
   "source": [
    "test_naive_model_4_5(data)"
   ]
  },
  {
   "cell_type": "code",
   "execution_count": 11,
   "metadata": {},
   "outputs": [
    {
     "data": {
      "text/plain": [
       "array([[1, 4],\n",
       "       [2, 5],\n",
       "       [3, 6]])"
      ]
     },
     "execution_count": 11,
     "metadata": {},
     "output_type": "execute_result"
    }
   ],
   "source": [
    "a = np.array([1,2,3])\n",
    "b = np.array([4,5,6])\n",
    "\n",
    "c = np.vstack((a,b)).T\n",
    "\n",
    "c"
   ]
  },
  {
   "cell_type": "code",
   "execution_count": 12,
   "metadata": {},
   "outputs": [
    {
     "name": "stdout",
     "output_type": "stream",
     "text": [
      "[0.70244231]\n",
      "0.5931777282216044\n",
      "0.33897363889887067\n"
     ]
    },
    {
     "data": {
      "image/png": "[encoded data removed]",
      "text/plain": [
       "<Figure size 432x288 with 1 Axes>"
      ]
     },
     "metadata": {
      "needs_background": "light"
     },
     "output_type": "display_data"
    }
   ],
   "source": [
    "# print(reg_4.coef_, reg_4.intercept_)\n",
    "# print(reg_5.coef_, reg_5.intercept_)\n",
    "\n",
    "# fig = plt.figure(figsize = (8, 8))\n",
    "# ax = plt.axes(projection =\"3d\")\n",
    "# ax.scatter3D(mean_rating_per_movie_list, train_set['Rating'], mean_rating_per_user_list, c=train_set['Rating'], s=0.01)\n",
    "# x = np.linspace(3.0, 4.0, 100)\n",
    "# y = np.linspace(0.0, 5.0, 10)\n",
    "# X, Y = np.meshgrid(x, y)\n",
    "# ax.scatter3D(X, Y, reg_4.coef_[0] * X + reg_4.coef_[1] * Y + reg_4.intercept_, s=0.1)\n",
    "# ax.scatter3D(X, Y, reg_5.coef_[1] * X + reg_5.coef_[0] * Y + reg_5.intercept_, s=1.0)\n",
    "# ax.view_init(0, -190)\n",
    "# plt.show()\n",
    "\n",
    "# x = np.linspace(0.0, 5.0, 100)\n",
    "# e = np.random.normal(0, 0.5, 100)\n",
    "# y = 0.7 * x - 0.3\n",
    "\n",
    "x = np.array([])\n",
    "y = np.array([])\n",
    "\n",
    "for i in np.arange(5):\n",
    "    x = np.concatenate((x, np.random.normal(1.0 + i * 0.5, 1.0, 100)))\n",
    "    y = np.concatenate((y, i * np.ones(100)))\n",
    "\n",
    "lin_reg = LinearRegression(fit_intercept=True).fit(x[..., None], y)\n",
    "\n",
    "a = lin_reg.coef_[0]\n",
    "b = lin_reg.intercept_\n",
    "\n",
    "print(lin_reg.coef_)\n",
    "print(lin_reg.intercept_)\n",
    "print(lin_reg.score(x[..., None], y))\n",
    "\n",
    "plt.plot(np.linspace(0, 5, 100), a * np.linspace(0, 5, 100) + b)\n",
    "plt.scatter(x, y)\n",
    "plt.show()"
   ]
  }
 ],
 "metadata": {
  "kernelspec": {
   "display_name": "Python 3",
   "language": "python",
   "name": "python3"
  },
  "language_info": {
   "codemirror_mode": {
    "name": "ipython",
    "version": 3
   },
   "file_extension": ".py",
   "mimetype": "text/x-python",
   "name": "python",
   "nbconvert_exporter": "python",
   "pygments_lexer": "ipython3",
   "version": "3.8.3"
  }
 },
 "nbformat": 4,
 "nbformat_minor": 5
}
