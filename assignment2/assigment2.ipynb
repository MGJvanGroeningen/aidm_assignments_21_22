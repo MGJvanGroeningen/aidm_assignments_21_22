{
 "cells": [
  {
   "cell_type": "code",
   "execution_count": 1,
   "id": "cd5c8f35",
   "metadata": {},
   "outputs": [],
   "source": [
    "import os\n",
    "import numpy as np\n",
    "import pandas as pd\n",
    "import scipy.sparse as sps"
   ]
  },
  {
   "cell_type": "code",
   "execution_count": 2,
   "id": "a3ded736",
   "metadata": {},
   "outputs": [],
   "source": [
    "filename = 'user_movie_rating.npy'"
   ]
  },
  {
   "cell_type": "code",
   "execution_count": 3,
   "id": "c3b92203",
   "metadata": {},
   "outputs": [],
   "source": [
    "data = np.load(filename)"
   ]
  },
  {
   "cell_type": "code",
   "execution_count": 4,
   "id": "ee446e94",
   "metadata": {},
   "outputs": [],
   "source": [
    "user_id = data[:,0]-1\n",
    "movie_id = data[:,1]-1\n",
    "rating = data[:,2]"
   ]
  },
  {
   "cell_type": "code",
   "execution_count": 11,
   "id": "23993d00",
   "metadata": {},
   "outputs": [
    {
     "data": {
      "text/plain": [
       "(array([     0,      0,      0, ..., 103702, 103702, 103702]),\n",
       " array([   29,   156,   172, ..., 17621, 17626, 17763]))"
      ]
     },
     "execution_count": 11,
     "metadata": {},
     "output_type": "execute_result"
    }
   ],
   "source": [
    "user_id,movie_id"
   ]
  },
  {
   "cell_type": "code",
   "execution_count": 6,
   "id": "0f9091e3",
   "metadata": {},
   "outputs": [],
   "source": [
    "input_matrix = sps.coo_matrix((rating, (movie_id, user_id)), shape=(movie_id.max()+1, user_id[-1]+1),dtype=np.int8)"
   ]
  },
  {
   "cell_type": "code",
   "execution_count": 7,
   "id": "6d9f3dfb",
   "metadata": {},
   "outputs": [],
   "source": [
    "input_matrix=input_matrix.toarray()"
   ]
  },
  {
   "cell_type": "code",
   "execution_count": 12,
   "id": "95894fbd",
   "metadata": {},
   "outputs": [
    {
     "data": {
      "text/plain": [
       "3"
      ]
     },
     "execution_count": 12,
     "metadata": {},
     "output_type": "execute_result"
    }
   ],
   "source": [
    "input_matrix[29][0]"
   ]
  },
  {
   "cell_type": "code",
   "execution_count": null,
   "id": "1c5a0bf5",
   "metadata": {},
   "outputs": [],
   "source": []
  }
 ],
 "metadata": {
  "kernelspec": {
   "display_name": "Python 3",
   "language": "python",
   "name": "python3"
  },
  "language_info": {
   "codemirror_mode": {
    "name": "ipython",
    "version": 3
   },
   "file_extension": ".py",
   "mimetype": "text/x-python",
   "name": "python",
   "nbconvert_exporter": "python",
   "pygments_lexer": "ipython3",
   "version": "3.8.8"
  }
 },
 "nbformat": 4,
 "nbformat_minor": 5
}
