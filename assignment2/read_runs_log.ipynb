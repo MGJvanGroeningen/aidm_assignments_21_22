{
 "cells": [
  {
   "cell_type": "code",
   "execution_count": 22,
   "metadata": {},
   "outputs": [
    {
     "name": "stdout",
     "output_type": "stream",
     "text": [
      "[measure, n_band, n_rows_per_band, pairs_mean, pairs_std, time_mean, time_std]\n",
      "[0, 10, 8, 75.2, 71.25840301325873, 184.86764636039734, 12.541197643979311]\n",
      "[0, 30, 5, 505.0, 160.51417382897998, 1047.786246395111, 206.55475420634653]\n",
      "[0, 20, 5, 421.4, 170.09009377385857, 757.6093195438385, 223.1666074273021]\n",
      "[0, 8, 10, 21.4, 22.132329294495868, 155.61818981170654, 3.991076341968966]\n",
      "[0, 10, 5, 301.6, 172.31900649667176, 694.7361481666564, 443.2400840260113]\n",
      "[1, 5, 15, 159.2, 68.50226273635054, 1049.6670180320739, 581.8483547292371]\n",
      "[1, 10, 15, 305.2, 90.86781608468425, 522.5662522792816, 176.1196828290359]\n",
      "[1, 15, 15, 386.8, 118.21911858916899, 477.36584701538084, 91.4394401394791]\n",
      "[1, 10, 12, 715.2, 195.52636650845838, 2213.8787380218505, 961.5211801949205]\n",
      "[1, 10, 18, 125.0, 30.239047604049965, 192.02374458312988, 30.36183288928742]\n",
      "[2, 5, 15, 75.0, 37.282703764614496, 1026.438503742218, 536.3840169076265]\n",
      "[2, 10, 15, 148.6, 55.23984069491873, 488.1680160045624, 156.93233509587603]\n",
      "[2, 15, 15, 195.0, 48.17883352676775, 455.62937970161437, 82.47397536557952]\n",
      "[2, 10, 12, 363.8, 116.29858124672029, 2128.9468462944033, 913.4123147161346]\n",
      "[2, 10, 18, 62.0, 14.38054240979804, 182.1352367401123, 23.230018100664495]\n"
     ]
    }
   ],
   "source": [
    "import numpy as np\n",
    "\n",
    "def result_string_to_list(string):\n",
    "    result = string.split(',')\n",
    "    result = [par.strip() for par in result]\n",
    "    result = [int(par) for par in result[:-1]] + [float(result[-1])]\n",
    "    return result\n",
    "\n",
    "with open('runs_log.txt', 'r') as runs_log_file:\n",
    "    results = runs_log_file.readlines()\n",
    "\n",
    "results = [result_string_to_list(result) for result in results]\n",
    "average_results = []\n",
    "for i in range(15):\n",
    "    setting_results = results[i::15]\n",
    "    measure, n_bands, rows_per_band = setting_results[0][0], setting_results[0][2], setting_results[0][3]\n",
    "    \n",
    "    arr = np.array(setting_results)\n",
    "    means = np.mean(arr, axis=0)\n",
    "    stds = np.std(arr, axis=0)\n",
    "    \n",
    "    time_mean = means[-1]\n",
    "    pairs_mean = means[-2]\n",
    "    time_std = stds[-1]\n",
    "    pairs_std = stds[-2]\n",
    "    \n",
    "    average_results.append([measure, n_bands, rows_per_band, pairs_mean, pairs_std, time_mean, time_std])\n",
    "    \n",
    "# measures: js = 0, cs = 1, dcs = 2\n",
    "print(\"[measure, n_band, n_rows_per_band, pairs_mean, pairs_std, time_mean, time_std]\")\n",
    "\n",
    "for average_result in average_results:\n",
    "    print(average_result)"
   ]
  }
 ],
 "metadata": {
  "kernelspec": {
   "display_name": "Python 3",
   "language": "python",
   "name": "python3"
  },
  "language_info": {
   "codemirror_mode": {
    "name": "ipython",
    "version": 3
   },
   "file_extension": ".py",
   "mimetype": "text/x-python",
   "name": "python",
   "nbconvert_exporter": "python",
   "pygments_lexer": "ipython3",
   "version": "3.8.3"
  }
 },
 "nbformat": 4,
 "nbformat_minor": 4
}
