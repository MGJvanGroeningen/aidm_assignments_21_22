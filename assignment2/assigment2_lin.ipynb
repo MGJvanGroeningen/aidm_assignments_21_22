{
 "cells": [
  {
   "cell_type": "code",
   "execution_count": 21,
   "id": "cd5c8f35",
   "metadata": {},
   "outputs": [],
   "source": [
    "import os\n",
    "import numpy as np\n",
    "import pandas as pd\n",
    "import scipy.sparse as sps\n",
    "import random\n",
    "import time\n",
    "import itertools\n",
    "from itertools import repeat\n",
    "from tqdm import tqdm\n",
    "import matplotlib.pyplot as plt\n",
    "from tqdm.contrib.concurrent import process_map\n",
    "\n"
   ]
  },
  {
   "cell_type": "code",
   "execution_count": 28,
   "id": "1c5a0bf5",
   "metadata": {},
   "outputs": [],
   "source": [
    "def load_data_into_matrix_test(filename):\n",
    "    #selected_index = np.random.randint(0,65225506,100000)\n",
    "    # pls un comment the index selection for choosing the whole data set\n",
    "    data = np.load(filename)[:5000000] #select only the first 5e6 rows\n",
    "    ## each row represents each user, and each column for each movie\n",
    "    input_matrix = sps.coo_matrix((data[:,2],(data[:,0]-1,data[:,1]-1)),\n",
    "                                  shape=(data[:,0].max(),data[:,1].max()),dtype=np.int8)\n",
    "    \n",
    "    return input_matrix\n",
    "\n",
    "\n",
    "\n",
    "def JS_sign(per_num,input_matrix):\n",
    "    '''\n",
    "    The frist method used for generating the signature matrix. We read \n",
    "    the ratings for user[j] following the permutation[i] order using the for loop\n",
    "    and take the index of the first rating we meet as the signature[i][j]\n",
    "    '''\n",
    "    \n",
    "    permutations = np.array([np.random.permutation(len(input_matrix[0])) for i in range(per_num)])\n",
    "    sign = np.full((per_num, len(input_matrix)), np.inf)\n",
    "#     sign2 = np.full((per_num, len(input_matrix)), np.inf)\n",
    "    for i in tqdm(range(per_num)):\n",
    "#         permutation = np.random.permutation(len(input_matrix[0]))\n",
    "#         print(permutation)\n",
    "        ## get the indeices that would sort the permutation arrays in order to access the ratings following\n",
    "        ## the permutation order.\n",
    "        per_index = permutations[i].argsort()\n",
    "        for j in range (len(input_matrix)):\n",
    "#             sign2[i][j] = np.min(input_matrix[j][per_index].nonzero()[0])\n",
    "            while sign[i][j] == np.inf:\n",
    "                for k in range (len(permutations[i])):\n",
    "                    ## go through every line of the input matrix using permutation order\n",
    "                    if input_matrix[j][per_index[k]] != 0:\n",
    "                        sign[i][j] = k\n",
    "                        break\n",
    "        \n",
    "    return sign\n",
    "\n",
    "def JS_sign2(per_num,input_matrix):\n",
    "    '''\n",
    "    The second method used for generating the signature matrix. It first returns the ratings for\n",
    "    user j as an array in the permutation i order, and we select the minimum index of the non zero\n",
    "    value of the array after permutation as the value we give to signature matrix[i][j].\n",
    "    '''\n",
    "    permutations = np.array([np.random.permutation(len(input_matrix[0])) for i in range(per_num)])\n",
    "    sign = np.full((per_num, len(input_matrix)), np.nan)\n",
    "    for i in tqdm(range (permutations)):\n",
    "        \n",
    "        ## get the indeices that would sort the permutation arrays in order to access the ratings following\n",
    "        ## the permutation order.\n",
    "        per_index = permutations[i].argsort()\n",
    "        for j in range (len(input_matrix)):\n",
    "            sign[i][j] = np.min(input_matrix[j][per_index].nonzero()[0])\n",
    "            \n",
    "    return sign\n",
    "\n",
    "\n",
    "    \n",
    "def JS_sim(sign,u):\n",
    "    return np.mean(sign.T[u[0]]==sign.T[u[1]])\n",
    "    \n",
    "\n",
    "def LSH_candidate(sign,b,r):\n",
    "    '''\n",
    "    The function used to search for candidate paris for simularity calculation\n",
    "    used the array in a band for a certian user as the key of bucket dist\n",
    "    '''\n",
    "    bucket = {}\n",
    "    pairs = []\n",
    "    for u in range (len(sign[0])):\n",
    "        if tuple(sign[(b*r):(b+1)*r, u]) in bucket:\n",
    "            #print(tuple(sign[(b*r):(b+1)*r, u]))\n",
    "            bucket[tuple(sign[(b*r):(b+1)*r, u])].append(u)\n",
    "            pairs.append(tuple(sign[(b*r):(b+1)*r, u]))\n",
    "            #print(pairs)\n",
    "        else:\n",
    "            bucket[tuple(sign[(b*r):(b+1)*r, u])]=[]\n",
    "            bucket[tuple(sign[(b*r):(b+1)*r, u])].append(u)\n",
    "            \n",
    "    return bucket, pairs\n",
    "\n",
    "\n",
    "# def LSH_candidate_2(sign,b,r):\n",
    "#     unique_value = []\n",
    "#     bucket = []\n",
    "#     pairs=[]\n",
    "#     band = sign[(b*r):(b+1)*r,:]\n",
    "#     for u in range (len(sign[0])):\n",
    "#         if sign[(b*r):(b+1)*r, u].tolist() in unique_value:\n",
    "#             return\n",
    "#         else:\n",
    "#             unique_value.append(sign[(b*r):(b+1)*r, u].tolist())\n",
    "#             unique_ids =np.where(np.where(band == sign[(b*r):(b+1)*r, u])[0])\n",
    "#             if len(unique_ids)>1:\n",
    "#                 bucket.append(np.where(band == sign[(b*r):(b+1)*r, u])[0])\n",
    "    \n",
    "#     return bucket\n",
    "\n",
    "def hashfunc(sign,arr,r):\n",
    "    sign_max = np.max(sign)\n",
    "    print(sign_max)\n",
    "    hash_coef=[]\n",
    "    for i in range(r):\n",
    "        hash_coef.append(sign_max**(i))\n",
    "    key = np.matmul(np.array(hash_coef),arr)\n",
    "    \n",
    "    return key\n",
    "        \n",
    "    \n",
    "\n",
    "# def LSH_candidate_3(sign,b,r)\n",
    "        \n",
    "# def makepairs(bucket,pairs):\n",
    "def unique_pairs_from_array(a):\n",
    "    pairs = []\n",
    "    n = len(a)\n",
    "    for idx, val in enumerate(a[:-1]):\n",
    "        pairs_for_single_value = np.stack((np.tile(val, n - idx-1), a[idx+1:]), axis=1)\n",
    "        pairs.append(pairs_for_single_value)\n",
    "        \n",
    "    return np.concatenate(pairs,axis=0)   \n",
    "    \n",
    "        \n",
    "def true_sim(input_matrix,u):\n",
    "    intersection = np.count_nonzero(input_matrix[u[0]]*input_matrix[u[1]])\n",
    "    union = np.count_nonzero(input_matrix[u[0]]+input_matrix[u[1]])\n",
    "    sim = intersection/union\n",
    "    \n",
    "    return sim\n",
    "\n",
    "def JS_main(input_matrix,per_num,row_num,t_limit):\n",
    "    '''\n",
    "    Main function for running the Jaccard Similarity method\n",
    "    per_num: number of permutations\n",
    "    row_num: number of rows for each band of LSH\n",
    "    t_limit: when the running time is larger than t_limit we would stop\n",
    "    '''\n",
    "    begin = time.time()\n",
    "    JS_signature= JS_sign(per_num,input_matrix)\n",
    "    print(JS_signature)\n",
    "    end = time.time()\n",
    "    print('Time require:', end-begin)\n",
    "    \n",
    "    r = 5\n",
    "    pair_list = []\n",
    "    for b in tqdm(range(int(np.ceil(len(JS_signature)/r)))):\n",
    "        print('b',b)\n",
    "        bucket,pairs = LSH_candidate(JS_signature,b,r)\n",
    "    #     bucket2 = LSH_candidate_2(JS_signature,b,r)\n",
    "    #     print(bucket2)\n",
    "        #rint(bucket)\n",
    "#         print(pairs)\n",
    "        for key in pairs:\n",
    "            begin = time.time()\n",
    "            pair = unique_pairs_from_array(bucket[key])\n",
    "            pair_list.append(pair)\n",
    "            end = time.time()\n",
    "            #print('time1',end-begin)\n",
    "#         if (time.time()-begin)>t_limit:\n",
    "#              break\n",
    "                \n",
    "    pair_list = np.unique(np.concatenate(pair_list,axis=0),axis=0)\n",
    "    print(\"Number of the pair candidates:\",len(pair_list))\n",
    "    \n",
    "    sim_list =np.array(list(map(JS_sim,repeat(JS_signature),pair_list)))\n",
    "    pair_4_true = pair_list[sim_list>0.5]\n",
    "    print('number of pairs that have the signature similarities higher than .5:',len(pair_4_true))\n",
    "    print('pairs that have the signature similarities higher than .5:',pair_4_true[:100])\n",
    "    \n",
    "    true_sim_list =np.array(list(map(true_sim,repeat(matrix),pair_4_true)))\n",
    "    print('number of pairs with the true similarity higher than .5',len(pair_4_true[true_sim_list>0.5]))\n",
    "    print('pairs with the true similarity higher than .5',pair_4_true[true_sim_list>0.5])\n",
    "    "
   ]
  },
  {
   "cell_type": "code",
   "execution_count": 29,
   "id": "a3ded736",
   "metadata": {},
   "outputs": [
    {
     "name": "stdout",
     "output_type": "stream",
     "text": [
      "number of users selected: 8069\n",
      "number of movies selected: 17770\n"
     ]
    }
   ],
   "source": [
    "# read the into a matrix with each row for each user and each column for each movie.\n",
    "\n",
    "filename = 'user_movie_rating.npy'\n",
    "matrix = load_data_into_matrix_test(filename)\n",
    "matrix=matrix.toarray()\n",
    "\n",
    "print('number of users selected:', np.shape(matrix)[0])\n",
    "print('number of movies selected:', np.shape(matrix)[1])"
   ]
  },
  {
   "cell_type": "code",
   "execution_count": 30,
   "id": "54e1fe1f",
   "metadata": {},
   "outputs": [
    {
     "name": "stderr",
     "output_type": "stream",
     "text": [
      "100%|██████████| 100/100 [02:03<00:00,  1.23s/it]\n",
      "  0%|          | 0/20 [00:00<?, ?it/s]"
     ]
    },
    {
     "name": "stdout",
     "output_type": "stream",
     "text": [
      "[[ 27.  27.  27. ...  42.  14. 113.]\n",
      " [  0.  19.   0. ...  17.  17.  61.]\n",
      " [  5.   4.  50. ...   6.  83.   4.]\n",
      " ...\n",
      " [155.  32.  32. ...  32.  18.  51.]\n",
      " [  7.   0.  41. ...   0.  41.  11.]\n",
      " [  7.   7.   7. ...   7. 104.  88.]]\n",
      "Time require: 123.56997108459473\n",
      "b 0\n"
     ]
    },
    {
     "name": "stderr",
     "output_type": "stream",
     "text": [
      "\r",
      "  5%|▌         | 1/20 [00:00<00:04,  3.91it/s]"
     ]
    },
    {
     "name": "stdout",
     "output_type": "stream",
     "text": [
      "b 1\n"
     ]
    },
    {
     "name": "stderr",
     "output_type": "stream",
     "text": [
      "\r",
      " 10%|█         | 2/20 [00:01<00:17,  1.05it/s]"
     ]
    },
    {
     "name": "stdout",
     "output_type": "stream",
     "text": [
      "b 2\n"
     ]
    },
    {
     "name": "stderr",
     "output_type": "stream",
     "text": [
      "\r",
      " 15%|█▌        | 3/20 [00:01<00:11,  1.53it/s]"
     ]
    },
    {
     "name": "stdout",
     "output_type": "stream",
     "text": [
      "b 3\n"
     ]
    },
    {
     "name": "stderr",
     "output_type": "stream",
     "text": [
      "\r",
      " 20%|██        | 4/20 [00:02<00:09,  1.69it/s]"
     ]
    },
    {
     "name": "stdout",
     "output_type": "stream",
     "text": [
      "b 4\n"
     ]
    },
    {
     "name": "stderr",
     "output_type": "stream",
     "text": [
      " 30%|███       | 6/20 [00:03<00:05,  2.37it/s]"
     ]
    },
    {
     "name": "stdout",
     "output_type": "stream",
     "text": [
      "b 5\n",
      "b 6\n"
     ]
    },
    {
     "name": "stderr",
     "output_type": "stream",
     "text": [
      "\r",
      " 35%|███▌      | 7/20 [00:03<00:04,  2.84it/s]"
     ]
    },
    {
     "name": "stdout",
     "output_type": "stream",
     "text": [
      "b 7\n"
     ]
    },
    {
     "name": "stderr",
     "output_type": "stream",
     "text": [
      "\r",
      " 40%|████      | 8/20 [00:03<00:03,  3.04it/s]"
     ]
    },
    {
     "name": "stdout",
     "output_type": "stream",
     "text": [
      "b 8\n"
     ]
    },
    {
     "name": "stderr",
     "output_type": "stream",
     "text": [
      "\r",
      " 45%|████▌     | 9/20 [00:04<00:04,  2.53it/s]"
     ]
    },
    {
     "name": "stdout",
     "output_type": "stream",
     "text": [
      "b 9\n"
     ]
    },
    {
     "name": "stderr",
     "output_type": "stream",
     "text": [
      "\r",
      " 50%|█████     | 10/20 [00:04<00:04,  2.10it/s]"
     ]
    },
    {
     "name": "stdout",
     "output_type": "stream",
     "text": [
      "b 10\n"
     ]
    },
    {
     "name": "stderr",
     "output_type": "stream",
     "text": [
      "\r",
      " 55%|█████▌    | 11/20 [00:05<00:03,  2.42it/s]"
     ]
    },
    {
     "name": "stdout",
     "output_type": "stream",
     "text": [
      "b 11\n"
     ]
    },
    {
     "name": "stderr",
     "output_type": "stream",
     "text": [
      " 65%|██████▌   | 13/20 [00:09<00:07,  1.08s/it]"
     ]
    },
    {
     "name": "stdout",
     "output_type": "stream",
     "text": [
      "b 12\n",
      "b 13\n"
     ]
    },
    {
     "name": "stderr",
     "output_type": "stream",
     "text": [
      "\r",
      " 70%|███████   | 14/20 [00:11<00:08,  1.34s/it]"
     ]
    },
    {
     "name": "stdout",
     "output_type": "stream",
     "text": [
      "b 14\n"
     ]
    },
    {
     "name": "stderr",
     "output_type": "stream",
     "text": [
      "\r",
      " 75%|███████▌  | 15/20 [00:11<00:05,  1.03s/it]"
     ]
    },
    {
     "name": "stdout",
     "output_type": "stream",
     "text": [
      "b 15\n"
     ]
    },
    {
     "name": "stderr",
     "output_type": "stream",
     "text": [
      " 85%|████████▌ | 17/20 [00:12<00:02,  1.39it/s]"
     ]
    },
    {
     "name": "stdout",
     "output_type": "stream",
     "text": [
      "b 16\n",
      "b 17\n"
     ]
    },
    {
     "name": "stderr",
     "output_type": "stream",
     "text": [
      "\r",
      " 90%|█████████ | 18/20 [00:13<00:01,  1.21it/s]"
     ]
    },
    {
     "name": "stdout",
     "output_type": "stream",
     "text": [
      "b 18\n"
     ]
    },
    {
     "name": "stderr",
     "output_type": "stream",
     "text": [
      "\r",
      " 95%|█████████▌| 19/20 [00:13<00:00,  1.45it/s]"
     ]
    },
    {
     "name": "stdout",
     "output_type": "stream",
     "text": [
      "b 19\n"
     ]
    },
    {
     "name": "stderr",
     "output_type": "stream",
     "text": [
      "100%|██████████| 20/20 [00:15<00:00,  1.30it/s]\n"
     ]
    },
    {
     "name": "stdout",
     "output_type": "stream",
     "text": [
      "Number of the pair candidates: 157869\n",
      "number of pairs that have the signature similarities higher than .5: 110\n",
      "pairs that have the signature similarities higher than .5: [[ 145 7715]\n",
      " [ 228 7448]\n",
      " [ 282 5093]\n",
      " [ 377 2705]\n",
      " [ 377 2740]\n",
      " [ 377 8001]\n",
      " [ 413  451]\n",
      " [ 413  705]\n",
      " [ 413 1738]\n",
      " [ 413 2740]\n",
      " [ 413 4345]\n",
      " [ 413 4904]\n",
      " [ 413 7623]\n",
      " [ 413 7872]\n",
      " [ 451 2740]\n",
      " [ 451 7623]\n",
      " [ 488 7623]\n",
      " [ 508 3610]\n",
      " [ 658 5013]\n",
      " [ 782 7715]\n",
      " [ 835 2948]\n",
      " [1009 4422]\n",
      " [1018 4693]\n",
      " [1170 6435]\n",
      " [1170 6514]\n",
      " [1213 7715]\n",
      " [1323 2948]\n",
      " [1323 7715]\n",
      " [1323 7872]\n",
      " [1371 2638]\n",
      " [1371 2948]\n",
      " [1371 3078]\n",
      " [1371 5352]\n",
      " [1371 5651]\n",
      " [1371 7267]\n",
      " [1371 7448]\n",
      " [1371 7715]\n",
      " [1426 1820]\n",
      " [1541 7623]\n",
      " [1541 7872]\n",
      " [1553 5697]\n",
      " [1626 1820]\n",
      " [1738 3625]\n",
      " [1738 4345]\n",
      " [1738 7872]\n",
      " [1738 8001]\n",
      " [1788 2825]\n",
      " [1804 7438]\n",
      " [1804 7872]\n",
      " [2075 4368]\n",
      " [2075 5352]\n",
      " [2194 2705]\n",
      " [2388 7209]\n",
      " [2402 6514]\n",
      " [2496 2705]\n",
      " [2496 3901]\n",
      " [2547 2705]\n",
      " [2643 3901]\n",
      " [2705 2948]\n",
      " [2705 3551]\n",
      " [2705 3901]\n",
      " [2705 4885]\n",
      " [2705 7715]\n",
      " [2705 7894]\n",
      " [2797 5092]\n",
      " [2801 3078]\n",
      " [2825 5883]\n",
      " [2825 8001]\n",
      " [2948 3901]\n",
      " [2948 6454]\n",
      " [2948 7715]\n",
      " [2948 7894]\n",
      " [3175 5697]\n",
      " [3225 6827]\n",
      " [3330 5697]\n",
      " [3370 6462]\n",
      " [3524 3901]\n",
      " [3551 6454]\n",
      " [3551 6544]\n",
      " [3551 7872]\n",
      " [3690 7715]\n",
      " [3901 4802]\n",
      " [3901 6663]\n",
      " [3901 7715]\n",
      " [3901 7894]\n",
      " [4022 6206]\n",
      " [4260 7872]\n",
      " [4337 7623]\n",
      " [4337 7848]\n",
      " [4345 5883]\n",
      " [4345 6739]\n",
      " [4345 7623]\n",
      " [4345 8001]\n",
      " [4551 6544]\n",
      " [4796 5566]\n",
      " [4819 5270]\n",
      " [4904 6739]\n",
      " [4929 7872]\n",
      " [5012 5094]\n",
      " [5275 7267]]\n",
      "number of pairs with the true similarity higher than .5 3\n",
      "pairs with the true similarity higher than .5 [[ 413 4345]\n",
      " [ 451 7623]\n",
      " [7623 8001]]\n"
     ]
    }
   ],
   "source": [
    "np.random.seed(42)\n",
    "JS_main(matrix,100,5,1000)"
   ]
  },
  {
   "cell_type": "markdown",
   "id": "99b3d9fd",
   "metadata": {},
   "source": [
    "# Here is the draft of some of my code pls don't delete them at the moment"
   ]
  },
  {
   "cell_type": "code",
   "execution_count": 31,
   "id": "e524998e",
   "metadata": {},
   "outputs": [
    {
     "name": "stderr",
     "output_type": "stream",
     "text": [
      "100%|██████████| 100/100 [02:05<00:00,  1.25s/it]\n",
      "  0%|          | 0/20 [00:00<?, ?it/s]"
     ]
    },
    {
     "name": "stdout",
     "output_type": "stream",
     "text": [
      "[[ 27.  27.  27. ...  42.  14. 113.]\n",
      " [  0.  19.   0. ...  17.  17.  61.]\n",
      " [  5.   4.  50. ...   6.  83.   4.]\n",
      " ...\n",
      " [155.  32.  32. ...  32.  18.  51.]\n",
      " [  7.   0.  41. ...   0.  41.  11.]\n",
      " [  7.   7.   7. ...   7. 104.  88.]]\n",
      "Time require: 125.35741424560547\n",
      "b 0\n"
     ]
    },
    {
     "name": "stderr",
     "output_type": "stream",
     "text": [
      "\r",
      "  5%|▌         | 1/20 [00:00<00:05,  3.72it/s]"
     ]
    },
    {
     "name": "stdout",
     "output_type": "stream",
     "text": [
      "b 1\n"
     ]
    },
    {
     "name": "stderr",
     "output_type": "stream",
     "text": [
      "\r",
      " 10%|█         | 2/20 [00:01<00:16,  1.06it/s]"
     ]
    },
    {
     "name": "stdout",
     "output_type": "stream",
     "text": [
      "b 2\n"
     ]
    },
    {
     "name": "stderr",
     "output_type": "stream",
     "text": [
      "\r",
      " 15%|█▌        | 3/20 [00:01<00:10,  1.59it/s]"
     ]
    },
    {
     "name": "stdout",
     "output_type": "stream",
     "text": [
      "b 3\n"
     ]
    },
    {
     "name": "stderr",
     "output_type": "stream",
     "text": [
      "\r",
      " 20%|██        | 4/20 [00:02<00:08,  1.81it/s]"
     ]
    },
    {
     "name": "stdout",
     "output_type": "stream",
     "text": [
      "b 4\n"
     ]
    },
    {
     "name": "stderr",
     "output_type": "stream",
     "text": [
      " 30%|███       | 6/20 [00:03<00:05,  2.37it/s]"
     ]
    },
    {
     "name": "stdout",
     "output_type": "stream",
     "text": [
      "b 5\n",
      "b 6\n"
     ]
    },
    {
     "name": "stderr",
     "output_type": "stream",
     "text": [
      "\r",
      " 35%|███▌      | 7/20 [00:03<00:04,  2.84it/s]"
     ]
    },
    {
     "name": "stdout",
     "output_type": "stream",
     "text": [
      "b 7\n"
     ]
    },
    {
     "name": "stderr",
     "output_type": "stream",
     "text": [
      "\r",
      " 40%|████      | 8/20 [00:03<00:03,  3.05it/s]"
     ]
    },
    {
     "name": "stdout",
     "output_type": "stream",
     "text": [
      "b 8\n"
     ]
    },
    {
     "name": "stderr",
     "output_type": "stream",
     "text": [
      "\r",
      " 45%|████▌     | 9/20 [00:04<00:04,  2.59it/s]"
     ]
    },
    {
     "name": "stdout",
     "output_type": "stream",
     "text": [
      "b 9\n"
     ]
    },
    {
     "name": "stderr",
     "output_type": "stream",
     "text": [
      " 55%|█████▌    | 11/20 [00:04<00:03,  2.79it/s]"
     ]
    },
    {
     "name": "stdout",
     "output_type": "stream",
     "text": [
      "b 10\n",
      "b 11\n"
     ]
    },
    {
     "name": "stderr",
     "output_type": "stream",
     "text": [
      " 65%|██████▌   | 13/20 [00:08<00:06,  1.02it/s]"
     ]
    },
    {
     "name": "stdout",
     "output_type": "stream",
     "text": [
      "b 12\n",
      "b 13\n"
     ]
    },
    {
     "name": "stderr",
     "output_type": "stream",
     "text": [
      "\r",
      " 70%|███████   | 14/20 [00:10<00:07,  1.23s/it]"
     ]
    },
    {
     "name": "stdout",
     "output_type": "stream",
     "text": [
      "b 14\n"
     ]
    },
    {
     "name": "stderr",
     "output_type": "stream",
     "text": [
      "\r",
      " 75%|███████▌  | 15/20 [00:10<00:04,  1.04it/s]"
     ]
    },
    {
     "name": "stdout",
     "output_type": "stream",
     "text": [
      "b 15\n"
     ]
    },
    {
     "name": "stderr",
     "output_type": "stream",
     "text": [
      " 85%|████████▌ | 17/20 [00:11<00:02,  1.45it/s]"
     ]
    },
    {
     "name": "stdout",
     "output_type": "stream",
     "text": [
      "b 16\n",
      "b 17\n"
     ]
    },
    {
     "name": "stderr",
     "output_type": "stream",
     "text": [
      "\r",
      " 90%|█████████ | 18/20 [00:12<00:01,  1.26it/s]"
     ]
    },
    {
     "name": "stdout",
     "output_type": "stream",
     "text": [
      "b 18\n"
     ]
    },
    {
     "name": "stderr",
     "output_type": "stream",
     "text": [
      "\r",
      " 95%|█████████▌| 19/20 [00:13<00:00,  1.50it/s]"
     ]
    },
    {
     "name": "stdout",
     "output_type": "stream",
     "text": [
      "b 19\n"
     ]
    },
    {
     "name": "stderr",
     "output_type": "stream",
     "text": [
      "100%|██████████| 20/20 [00:14<00:00,  1.37it/s]\n"
     ]
    },
    {
     "name": "stdout",
     "output_type": "stream",
     "text": [
      "Number of the pair candidates: 157869\n",
      "number of pairs that have the signature similarities higher than .5: 110\n",
      "pairs that have the signature similarities higher than .5: [[ 145 7715]\n",
      " [ 228 7448]\n",
      " [ 282 5093]\n",
      " [ 377 2705]\n",
      " [ 377 2740]\n",
      " [ 377 8001]\n",
      " [ 413  451]\n",
      " [ 413  705]\n",
      " [ 413 1738]\n",
      " [ 413 2740]\n",
      " [ 413 4345]\n",
      " [ 413 4904]\n",
      " [ 413 7623]\n",
      " [ 413 7872]\n",
      " [ 451 2740]\n",
      " [ 451 7623]\n",
      " [ 488 7623]\n",
      " [ 508 3610]\n",
      " [ 658 5013]\n",
      " [ 782 7715]\n",
      " [ 835 2948]\n",
      " [1009 4422]\n",
      " [1018 4693]\n",
      " [1170 6435]\n",
      " [1170 6514]\n",
      " [1213 7715]\n",
      " [1323 2948]\n",
      " [1323 7715]\n",
      " [1323 7872]\n",
      " [1371 2638]\n",
      " [1371 2948]\n",
      " [1371 3078]\n",
      " [1371 5352]\n",
      " [1371 5651]\n",
      " [1371 7267]\n",
      " [1371 7448]\n",
      " [1371 7715]\n",
      " [1426 1820]\n",
      " [1541 7623]\n",
      " [1541 7872]\n",
      " [1553 5697]\n",
      " [1626 1820]\n",
      " [1738 3625]\n",
      " [1738 4345]\n",
      " [1738 7872]\n",
      " [1738 8001]\n",
      " [1788 2825]\n",
      " [1804 7438]\n",
      " [1804 7872]\n",
      " [2075 4368]\n",
      " [2075 5352]\n",
      " [2194 2705]\n",
      " [2388 7209]\n",
      " [2402 6514]\n",
      " [2496 2705]\n",
      " [2496 3901]\n",
      " [2547 2705]\n",
      " [2643 3901]\n",
      " [2705 2948]\n",
      " [2705 3551]\n",
      " [2705 3901]\n",
      " [2705 4885]\n",
      " [2705 7715]\n",
      " [2705 7894]\n",
      " [2797 5092]\n",
      " [2801 3078]\n",
      " [2825 5883]\n",
      " [2825 8001]\n",
      " [2948 3901]\n",
      " [2948 6454]\n",
      " [2948 7715]\n",
      " [2948 7894]\n",
      " [3175 5697]\n",
      " [3225 6827]\n",
      " [3330 5697]\n",
      " [3370 6462]\n",
      " [3524 3901]\n",
      " [3551 6454]\n",
      " [3551 6544]\n",
      " [3551 7872]\n",
      " [3690 7715]\n",
      " [3901 4802]\n",
      " [3901 6663]\n",
      " [3901 7715]\n",
      " [3901 7894]\n",
      " [4022 6206]\n",
      " [4260 7872]\n",
      " [4337 7623]\n",
      " [4337 7848]\n",
      " [4345 5883]\n",
      " [4345 6739]\n",
      " [4345 7623]\n",
      " [4345 8001]\n",
      " [4551 6544]\n",
      " [4796 5566]\n",
      " [4819 5270]\n",
      " [4904 6739]\n",
      " [4929 7872]\n",
      " [5012 5094]\n",
      " [5275 7267]]\n",
      "number of pairs with the true similarity higher than .5 3\n",
      "pairs with the true similarity higher than .5 [[ 413 4345]\n",
      " [ 451 7623]\n",
      " [7623 8001]]\n"
     ]
    }
   ],
   "source": [
    "np.random.seed(42)\n",
    "JS_main(matrix,100,5,1000)"
   ]
  },
  {
   "cell_type": "code",
   "execution_count": 8,
   "id": "786ccefa",
   "metadata": {},
   "outputs": [
    {
     "name": "stderr",
     "output_type": "stream",
     "text": [
      "100%|██████████| 100/100 [02:01<00:00,  1.22s/it]"
     ]
    },
    {
     "name": "stdout",
     "output_type": "stream",
     "text": [
      "Time require: 121.90648984909058\n"
     ]
    },
    {
     "name": "stderr",
     "output_type": "stream",
     "text": [
      "\n"
     ]
    }
   ],
   "source": [
    "begin = time.time()\n",
    "JS_signature1= JS_sign(100,matrix)\n",
    "end = time.time()\n",
    "\n",
    "print('Time require:', end-begin)"
   ]
  },
  {
   "cell_type": "code",
   "execution_count": 121,
   "id": "086f0939",
   "metadata": {},
   "outputs": [
    {
     "name": "stderr",
     "output_type": "stream",
     "text": [
      "100%|██████████| 100/100 [36:55<00:00, 22.16s/it]"
     ]
    },
    {
     "name": "stdout",
     "output_type": "stream",
     "text": [
      "Time require: 2216.003625869751\n"
     ]
    },
    {
     "name": "stderr",
     "output_type": "stream",
     "text": [
      "\n"
     ]
    }
   ],
   "source": [
    "\n",
    "begin = time.time()\n",
    "JS_signature2 = JS_sign2(100,matrix)\n",
    "end = time.time()\n",
    "\n",
    "print('Time require:', end-begin)"
   ]
  },
  {
   "cell_type": "code",
   "execution_count": null,
   "id": "162f5fd1",
   "metadata": {},
   "outputs": [],
   "source": [
    "\n",
    "\n",
    "r = 5\n",
    "pair_list = []\n",
    "for b in range (int(np.ceil(len(JS_signature1)/r))-1):\n",
    "    print('b',b)\n",
    "    bucket,pairs = LSH_candidate(JS_signature1,b,r)\n",
    "#     bucket2 = LSH_candidate_2(JS_signature,b,r)\n",
    "#     print(bucket2)\n",
    "    for key in pairs:\n",
    "        begin = time.time()\n",
    "        pair = unique_pairs_from_array(bucket[key])\n",
    "        pair_list.append(pair)\n",
    "        end = time.time()\n",
    "        \n",
    "        print('time1',end-begin)\n",
    "pair_list = np.concatenate(pair_list,axis=0)        \n",
    "print(\"Number of the pair candidates:\",len(pair_list))\n",
    "#     for pair2 in bucket2:\n",
    "#         begin = time.time()\n",
    "#         pair2_unique = unique_pairs_from_array(pairs2)\n",
    "#         end = time.time()\n",
    "#         print(pair2_unique)\n",
    "#         print('time2',end-begin)\n",
    "        \n",
    "        "
   ]
  },
  {
   "cell_type": "code",
   "execution_count": 27,
   "id": "9b7cbefc",
   "metadata": {},
   "outputs": [],
   "source": [
    "sim_list =list(map(JS_sim,repeat(JS_signature1),pair_list))\n",
    "#print(sim_list[sim_list>0.5])"
   ]
  },
  {
   "cell_type": "code",
   "execution_count": 34,
   "id": "52c7d198",
   "metadata": {},
   "outputs": [
    {
     "data": {
      "text/plain": [
       "array([[ 353, 2934],\n",
       "       [ 353, 2934],\n",
       "       [4821, 5081],\n",
       "       ...,\n",
       "       [ 772, 8054],\n",
       "       [2269, 8054],\n",
       "       [2334, 8054]])"
      ]
     },
     "execution_count": 34,
     "metadata": {},
     "output_type": "execute_result"
    }
   ],
   "source": [
    "sim_list=np.array(sim_list)\n",
    "pair_list[sim_list>0.5]\n",
    "\n",
    "        \n",
    "\n",
    "  "
   ]
  },
  {
   "cell_type": "code",
   "execution_count": 35,
   "id": "9e057cb3",
   "metadata": {},
   "outputs": [],
   "source": [
    "true_sim_list =list(map(true_sim,repeat(matrix),pair_list[sim_list>0.5]))"
   ]
  },
  {
   "cell_type": "code",
   "execution_count": 43,
   "id": "6b705495",
   "metadata": {},
   "outputs": [
    {
     "data": {
      "text/plain": [
       "<matplotlib.collections.PathCollection at 0x7fa972a8dfa0>"
      ]
     },
     "execution_count": 43,
     "metadata": {},
     "output_type": "execute_result"
    },
    {
     "data": {
      "image/png": "[encoded data removed]",
      "text/plain": [
       "<Figure size 432x288 with 1 Axes>"
      ]
     },
     "metadata": {
      "needs_background": "light"
     },
     "output_type": "display_data"
    }
   ],
   "source": [
    "sim_list_test =list(map(JS_sim,repeat(JS_signature1),pair_list[:1000]))\n",
    "true_sim_list_test =list(map(true_sim,repeat(matrix),pair_list[:1000]))\n",
    "plt.scatter(sim_list_test,true_sim_list_test)"
   ]
  },
  {
   "cell_type": "code",
   "execution_count": 37,
   "id": "d4987808",
   "metadata": {},
   "outputs": [
    {
     "data": {
      "text/plain": [
       "array([0.549217  , 0.549217  , 0.52521614, 0.52521614, 0.549217  ,\n",
       "       0.52521614, 0.549217  , 0.549217  , 0.52521614, 0.549217  ,\n",
       "       0.549217  , 0.52521614, 0.52521614, 0.52303228, 0.50353107,\n",
       "       0.52303228, 0.50353107, 0.52303228, 0.50353107, 0.52303228,\n",
       "       0.50353107, 0.52303228, 0.50353107, 0.52303228, 0.50353107,\n",
       "       0.52303228, 0.50353107, 0.52303228, 0.50353107, 0.52303228,\n",
       "       0.50353107, 0.52303228, 0.50353107, 0.549217  , 0.52521614,\n",
       "       0.52303228, 0.549217  , 0.52521614, 0.52303228, 0.549217  ,\n",
       "       0.52521614, 0.52303228, 0.549217  , 0.52521614, 0.52303228,\n",
       "       0.549217  , 0.52521614, 0.52303228, 0.549217  , 0.52521614,\n",
       "       0.52303228, 0.549217  , 0.52521614, 0.52303228, 0.549217  ,\n",
       "       0.52521614, 0.52303228, 0.549217  , 0.52521614, 0.52303228,\n",
       "       0.549217  , 0.52521614, 0.52303228, 0.549217  , 0.52521614,\n",
       "       0.52303228, 0.549217  , 0.52521614, 0.52303228, 0.549217  ,\n",
       "       0.52521614, 0.52303228, 0.549217  , 0.52521614, 0.52303228,\n",
       "       0.549217  , 0.52521614, 0.52303228, 0.549217  , 0.52521614,\n",
       "       0.52303228, 0.549217  , 0.52521614, 0.52303228, 0.549217  ,\n",
       "       0.52521614, 0.52303228, 0.549217  , 0.52521614, 0.52303228,\n",
       "       0.549217  , 0.52521614, 0.52303228, 0.549217  , 0.52521614,\n",
       "       0.52303228, 0.549217  , 0.52521614, 0.52303228, 0.549217  ,\n",
       "       0.52521614, 0.52303228, 0.549217  , 0.52521614, 0.52303228,\n",
       "       0.549217  , 0.52521614, 0.52303228, 0.549217  , 0.52521614,\n",
       "       0.52303228, 0.549217  , 0.52521614, 0.52303228, 0.549217  ,\n",
       "       0.52521614, 0.52303228, 0.549217  , 0.52521614, 0.52303228,\n",
       "       0.549217  , 0.52521614, 0.52303228, 0.549217  , 0.52521614,\n",
       "       0.52303228, 0.549217  , 0.52521614, 0.52303228, 0.549217  ,\n",
       "       0.52521614, 0.52303228, 0.549217  , 0.52521614, 0.52303228,\n",
       "       0.549217  , 0.52521614, 0.52303228, 0.549217  , 0.52521614,\n",
       "       0.52303228, 0.549217  , 0.52521614, 0.52303228, 0.549217  ,\n",
       "       0.52521614, 0.52303228, 0.549217  , 0.52521614, 0.52303228,\n",
       "       0.549217  , 0.52521614, 0.52303228, 0.549217  , 0.52521614,\n",
       "       0.52303228, 0.549217  , 0.52521614, 0.52303228, 0.549217  ,\n",
       "       0.52521614, 0.52303228, 0.549217  , 0.52521614, 0.52303228,\n",
       "       0.549217  , 0.52521614, 0.52303228, 0.549217  , 0.52521614,\n",
       "       0.52303228, 0.549217  , 0.52521614, 0.52303228, 0.549217  ,\n",
       "       0.52521614, 0.52303228, 0.549217  , 0.52521614, 0.52303228,\n",
       "       0.549217  , 0.52521614, 0.52303228, 0.549217  , 0.52521614,\n",
       "       0.52303228, 0.549217  , 0.52521614, 0.52303228, 0.549217  ,\n",
       "       0.52521614, 0.52303228, 0.549217  , 0.52521614, 0.52303228,\n",
       "       0.549217  , 0.52521614, 0.52303228, 0.549217  , 0.52521614,\n",
       "       0.52303228, 0.549217  , 0.52521614, 0.52303228, 0.549217  ,\n",
       "       0.52521614, 0.52303228, 0.549217  , 0.52521614, 0.52303228])"
      ]
     },
     "execution_count": 37,
     "metadata": {},
     "output_type": "execute_result"
    }
   ],
   "source": [
    "true=np.array(true_sim_list)\n",
    "true[true>.5]"
   ]
  },
  {
   "cell_type": "code",
   "execution_count": 19,
   "id": "d60badaa",
   "metadata": {},
   "outputs": [
    {
     "name": "stdout",
     "output_type": "stream",
     "text": [
      "b 0\n",
      "[]\n",
      "b 1\n",
      "time1 0.00012183189392089844\n",
      "time1 7.843971252441406e-05\n",
      "[array([[ 74, 140]]), array([[111, 152]])]\n",
      "b 2\n",
      "time1 0.00043201446533203125\n",
      "time1 0.0001366138458251953\n",
      "time1 6.985664367675781e-05\n",
      "time1 8.0108642578125e-05\n",
      "[array([[  7,  58],\n",
      "       [  7, 112],\n",
      "       [ 58, 112]]), array([[  7,  58],\n",
      "       [  7, 112],\n",
      "       [ 58, 112]]), array([[  6, 152]]), array([[ 57, 162]])]\n",
      "b 3\n",
      "[]\n",
      "b 4\n",
      "time1 0.00010895729064941406\n",
      "time1 7.557868957519531e-05\n",
      "time1 7.05718994140625e-05\n",
      "time1 8.273124694824219e-05\n",
      "time1 7.152557373046875e-05\n",
      "[array([[37, 57]]), array([[ 4, 95]]), array([[  0, 116]]), array([[ 17, 142]]), array([[  2, 162]])]\n",
      "b 5\n",
      "time1 0.000110626220703125\n",
      "time1 0.0001068115234375\n",
      "time1 7.534027099609375e-05\n",
      "time1 7.081031799316406e-05\n",
      "time1 0.00012493133544921875\n",
      "time1 0.00012969970703125\n",
      "time1 0.0003216266632080078\n",
      "time1 0.00031685829162597656\n",
      "time1 0.00028967857360839844\n",
      "time1 6.961822509765625e-05\n",
      "time1 7.891654968261719e-05\n",
      "time1 0.0004031658172607422\n",
      "time1 7.05718994140625e-05\n",
      "time1 0.0003056526184082031\n",
      "time1 6.937980651855469e-05\n",
      "time1 0.0003044605255126953\n",
      "[array([[13, 18]]), array([[22, 61]]), array([[39, 76]]), array([[90, 97]]), array([[ 16, 102],\n",
      "       [ 16, 104],\n",
      "       [102, 104]]), array([[ 16, 102],\n",
      "       [ 16, 104],\n",
      "       [102, 104]]), array([[  6, 106],\n",
      "       [  6, 112],\n",
      "       [  6, 116],\n",
      "       [  6, 146],\n",
      "       [  6, 152],\n",
      "       [  6, 156],\n",
      "       [106, 112],\n",
      "       [106, 116],\n",
      "       [106, 146],\n",
      "       [106, 152],\n",
      "       [106, 156],\n",
      "       [112, 116],\n",
      "       [112, 146],\n",
      "       [112, 152],\n",
      "       [112, 156],\n",
      "       [116, 146],\n",
      "       [116, 152],\n",
      "       [116, 156],\n",
      "       [146, 152],\n",
      "       [146, 156],\n",
      "       [152, 156]]), array([[  6, 106],\n",
      "       [  6, 112],\n",
      "       [  6, 116],\n",
      "       [  6, 146],\n",
      "       [  6, 152],\n",
      "       [  6, 156],\n",
      "       [106, 112],\n",
      "       [106, 116],\n",
      "       [106, 146],\n",
      "       [106, 152],\n",
      "       [106, 156],\n",
      "       [112, 116],\n",
      "       [112, 146],\n",
      "       [112, 152],\n",
      "       [112, 156],\n",
      "       [116, 146],\n",
      "       [116, 152],\n",
      "       [116, 156],\n",
      "       [146, 152],\n",
      "       [146, 156],\n",
      "       [152, 156]]), array([[  6, 106],\n",
      "       [  6, 112],\n",
      "       [  6, 116],\n",
      "       [  6, 146],\n",
      "       [  6, 152],\n",
      "       [  6, 156],\n",
      "       [106, 112],\n",
      "       [106, 116],\n",
      "       [106, 146],\n",
      "       [106, 152],\n",
      "       [106, 156],\n",
      "       [112, 116],\n",
      "       [112, 146],\n",
      "       [112, 152],\n",
      "       [112, 156],\n",
      "       [116, 146],\n",
      "       [116, 152],\n",
      "       [116, 156],\n",
      "       [146, 152],\n",
      "       [146, 156],\n",
      "       [152, 156]]), array([[ 78, 124]]), array([[  8, 145]]), array([[  6, 106],\n",
      "       [  6, 112],\n",
      "       [  6, 116],\n",
      "       [  6, 146],\n",
      "       [  6, 152],\n",
      "       [  6, 156],\n",
      "       [106, 112],\n",
      "       [106, 116],\n",
      "       [106, 146],\n",
      "       [106, 152],\n",
      "       [106, 156],\n",
      "       [112, 116],\n",
      "       [112, 146],\n",
      "       [112, 152],\n",
      "       [112, 156],\n",
      "       [116, 146],\n",
      "       [116, 152],\n",
      "       [116, 156],\n",
      "       [146, 152],\n",
      "       [146, 156],\n",
      "       [152, 156]]), array([[ 19, 148]]), array([[  6, 106],\n",
      "       [  6, 112],\n",
      "       [  6, 116],\n",
      "       [  6, 146],\n",
      "       [  6, 152],\n",
      "       [  6, 156],\n",
      "       [106, 112],\n",
      "       [106, 116],\n",
      "       [106, 146],\n",
      "       [106, 152],\n",
      "       [106, 156],\n",
      "       [112, 116],\n",
      "       [112, 146],\n",
      "       [112, 152],\n",
      "       [112, 156],\n",
      "       [116, 146],\n",
      "       [116, 152],\n",
      "       [116, 156],\n",
      "       [146, 152],\n",
      "       [146, 156],\n",
      "       [152, 156]]), array([[ 45, 155]]), array([[  6, 106],\n",
      "       [  6, 112],\n",
      "       [  6, 116],\n",
      "       [  6, 146],\n",
      "       [  6, 152],\n",
      "       [  6, 156],\n",
      "       [106, 112],\n",
      "       [106, 116],\n",
      "       [106, 146],\n",
      "       [106, 152],\n",
      "       [106, 156],\n",
      "       [112, 116],\n",
      "       [112, 146],\n",
      "       [112, 152],\n",
      "       [112, 156],\n",
      "       [116, 146],\n",
      "       [116, 152],\n",
      "       [116, 156],\n",
      "       [146, 152],\n",
      "       [146, 156],\n",
      "       [152, 156]])]\n",
      "b 6\n",
      "time1 9.894371032714844e-05\n",
      "[array([[ 76, 110]])]\n",
      "b 7\n",
      "time1 0.00010800361633300781\n",
      "time1 8.702278137207031e-05\n",
      "[array([[16, 71]]), array([[ 49, 116]])]\n",
      "b 8\n",
      "time1 0.0001068115234375\n",
      "time1 9.107589721679688e-05\n",
      "[array([[ 88, 106]]), array([[ 18, 110]])]\n",
      "b 9\n",
      "time1 0.00013446807861328125\n",
      "time1 0.00010204315185546875\n",
      "time1 7.343292236328125e-05\n",
      "time1 8.130073547363281e-05\n",
      "[array([[22, 58]]), array([[49, 80]]), array([[115, 116]]), array([[131, 152]])]\n",
      "b 10\n",
      "time1 0.00012612342834472656\n",
      "time1 0.00010609626770019531\n",
      "time1 0.00013327598571777344\n",
      "time1 9.989738464355469e-05\n",
      "time1 0.0003190040588378906\n",
      "[array([[36, 78]]), array([[ 72, 103]]), array([[110, 113],\n",
      "       [110, 158],\n",
      "       [113, 158]]), array([[ 74, 115]]), array([[110, 113],\n",
      "       [110, 158],\n",
      "       [113, 158]])]\n",
      "b 11\n",
      "time1 0.00014281272888183594\n",
      "[array([[ 98, 139]])]\n",
      "b 12\n",
      "time1 0.00014472007751464844\n",
      "time1 0.0001201629638671875\n",
      "time1 7.653236389160156e-05\n",
      "[array([[  5, 130]]), array([[ 69, 137]]), array([[108, 152]])]\n",
      "b 13\n",
      "time1 0.0001087188720703125\n",
      "time1 9.775161743164062e-05\n",
      "[array([[ 54, 104]]), array([[  1, 110]])]\n",
      "b 14\n",
      "time1 0.00017714500427246094\n",
      "time1 0.0001628398895263672\n",
      "time1 6.985664367675781e-05\n",
      "[array([[  8,  93],\n",
      "       [  8, 116],\n",
      "       [ 93, 116]]), array([[  8,  93],\n",
      "       [  8, 116],\n",
      "       [ 93, 116]]), array([[ 45, 146]])]\n",
      "b 15\n",
      "time1 0.00016307830810546875\n",
      "[array([[105, 154]])]\n",
      "b 16\n",
      "[]\n",
      "b 17\n",
      "time1 0.00012040138244628906\n",
      "[array([[ 29, 152]])]\n",
      "b 18\n",
      "time1 0.0001556873321533203\n",
      "time1 0.00019550323486328125\n",
      "time1 0.000102996826171875\n",
      "time1 7.271766662597656e-05\n",
      "time1 0.0001316070556640625\n",
      "[array([[ 2, 37]]), array([[  0,  41],\n",
      "       [  0, 152],\n",
      "       [ 41, 152]]), array([[26, 74]]), array([[ 7, 76]]), array([[  0,  41],\n",
      "       [  0, 152],\n",
      "       [ 41, 152]])]\n",
      "b 19\n",
      "time1 0.00018143653869628906\n",
      "time1 0.00014543533325195312\n",
      "time1 6.461143493652344e-05\n",
      "time1 0.00011515617370605469\n",
      "time1 0.00011086463928222656\n",
      "time1 0.00010919570922851562\n",
      "time1 0.00010633468627929688\n",
      "time1 0.00010728836059570312\n",
      "time1 7.557868957519531e-05\n",
      "time1 0.00011181831359863281\n",
      "time1 5.435943603515625e-05\n",
      "time1 5.5789947509765625e-05\n",
      "time1 0.00010251998901367188\n",
      "time1 9.72747802734375e-05\n",
      "time1 5.3882598876953125e-05\n",
      "[array([[  6,  48],\n",
      "       [  6, 146],\n",
      "       [ 48, 146]]), array([[19, 54],\n",
      "       [19, 96],\n",
      "       [54, 96]]), array([[34, 76]]), array([[ 22,  95],\n",
      "       [ 22, 104],\n",
      "       [ 95, 104]]), array([[19, 54],\n",
      "       [19, 96],\n",
      "       [54, 96]]), array([[ 71,  98],\n",
      "       [ 71, 144],\n",
      "       [ 98, 144]]), array([[ 22,  95],\n",
      "       [ 22, 104],\n",
      "       [ 95, 104]]), array([[ 10, 106],\n",
      "       [ 10, 134],\n",
      "       [106, 134]]), array([[  3, 128]]), array([[ 10, 106],\n",
      "       [ 10, 134],\n",
      "       [106, 134]]), array([[113, 140]]), array([[ 56, 141]]), array([[ 71,  98],\n",
      "       [ 71, 144],\n",
      "       [ 98, 144]]), array([[  6,  48],\n",
      "       [  6, 146],\n",
      "       [ 48, 146]]), array([[ 75, 162]])]\n"
     ]
    }
   ],
   "source": [
    "r = 5\n",
    "for b in range (int(np.ceil(len(JS_signature)/r))):\n",
    "    print('b',b)\n",
    "    bucket,pairs = LSH_candidate(JS_signature1,b,r)\n",
    "    pair_list = []\n",
    "#     bucket2 = LSH_candidate_2(JS_signature,b,r)\n",
    "#     print(bucket2)\n",
    "    for key in pairs:\n",
    "        begin = time.time()\n",
    "        pair = unique_pairs_from_array(bucket[key])\n",
    "        end = time.time()\n",
    "        pair_list.append(pair)\n",
    "        print('time1',end-begin)\n",
    "     \n",
    "    print(pair_list)"
   ]
  },
  {
   "cell_type": "code",
   "execution_count": 27,
   "id": "e960ea37",
   "metadata": {},
   "outputs": [
    {
     "data": {
      "text/plain": [
       "(100, 20)"
      ]
     },
     "execution_count": 27,
     "metadata": {},
     "output_type": "execute_result"
    }
   ],
   "source": [
    "np.shape(JS_signature)"
   ]
  },
  {
   "cell_type": "code",
   "execution_count": 39,
   "id": "9e6ff5eb",
   "metadata": {},
   "outputs": [
    {
     "name": "stdout",
     "output_type": "stream",
     "text": [
      "[8 6 5]\n"
     ]
    }
   ],
   "source": [
    "a=np.array([2,3,1])\n",
    "b=np.array([4,2,5])\n",
    "print(a*b)\n",
    "    "
   ]
  },
  {
   "cell_type": "code",
   "execution_count": 55,
   "id": "139eb16d",
   "metadata": {},
   "outputs": [
    {
     "name": "stdout",
     "output_type": "stream",
     "text": [
      "[0 6 4 1 5 2 3 7]\n",
      "[0 3 5 6 2 4 1 7]\n",
      "[0 4 0 4 1 0 3 0]\n",
      "1\n"
     ]
    }
   ],
   "source": [
    "a =np.array([0,3,1,4,0,0,4,0])\n",
    "per = np.random.permutation(len(a))\n",
    "per_index = per.argsort()\n",
    "print(per)\n",
    "print(per_index)\n",
    "print(a[per_index])\n",
    "print(np.min(a[per_index].nonzero()[0]))"
   ]
  },
  {
   "cell_type": "code",
   "execution_count": 74,
   "id": "ae28e538",
   "metadata": {},
   "outputs": [
    {
     "name": "stdout",
     "output_type": "stream",
     "text": [
      "0\n",
      "1\n",
      "2\n",
      "4\n"
     ]
    }
   ],
   "source": [
    "a=[0,0,4,5]\n",
    "b=0\n",
    "#while b==0:\n",
    "for i in range (len(a)):\n",
    "    print(i)\n",
    "    if a[i]!=0:\n",
    "        b=a[i]\n",
    "        break\n",
    "            \n",
    "print(b)\n",
    "            \n",
    "            \n",
    "# while sign[i][j] == np.inf:\n",
    "#     for k in range (len(permutations[i])):\n",
    "#         ## go through every line of the input matrix using permutation order\n",
    "#         if input_matrix[j][per_index[k]] != 0:\n",
    "#             sign[i][j] = k\n",
    "#                 return\n",
    "        "
   ]
  },
  {
   "cell_type": "code",
   "execution_count": 48,
   "id": "72febc6e",
   "metadata": {},
   "outputs": [
    {
     "ename": "TypeError",
     "evalue": "'builtin_function_or_method' object is not subscriptable",
     "output_type": "error",
     "traceback": [
      "\u001b[0;31m---------------------------------------------------------------------------\u001b[0m",
      "\u001b[0;31mTypeError\u001b[0m                                 Traceback (most recent call last)",
      "\u001b[0;32m<ipython-input-48-6d6b9bac9e4c>\u001b[0m in \u001b[0;36m<module>\u001b[0;34m\u001b[0m\n\u001b[1;32m      1\u001b[0m \u001b[0ma\u001b[0m\u001b[0;34m=\u001b[0m\u001b[0;34m[\u001b[0m\u001b[0;34m]\u001b[0m\u001b[0;34m\u001b[0m\u001b[0;34m\u001b[0m\u001b[0m\n\u001b[0;32m----> 2\u001b[0;31m \u001b[0;32mif\u001b[0m \u001b[0mlist\u001b[0m\u001b[0;34m(\u001b[0m\u001b[0mnp\u001b[0m\u001b[0;34m.\u001b[0m\u001b[0marray\u001b[0m\u001b[0;34m[\u001b[0m\u001b[0;36m4\u001b[0m\u001b[0;34m,\u001b[0m\u001b[0;36m2\u001b[0m\u001b[0;34m,\u001b[0m\u001b[0;36m3\u001b[0m\u001b[0;34m]\u001b[0m\u001b[0;34m)\u001b[0m \u001b[0;32min\u001b[0m \u001b[0ma\u001b[0m\u001b[0;34m:\u001b[0m\u001b[0;34m\u001b[0m\u001b[0;34m\u001b[0m\u001b[0m\n\u001b[0m\u001b[1;32m      3\u001b[0m     \u001b[0mprint\u001b[0m\u001b[0;34m(\u001b[0m\u001b[0;34m\"a\"\u001b[0m\u001b[0;34m)\u001b[0m\u001b[0;34m\u001b[0m\u001b[0;34m\u001b[0m\u001b[0m\n",
      "\u001b[0;31mTypeError\u001b[0m: 'builtin_function_or_method' object is not subscriptable"
     ]
    }
   ],
   "source": [
    "a=[]\n",
    "if list(np.array[4,2,3]) in a:\n",
    "    print(\"a\")"
   ]
  },
  {
   "cell_type": "code",
   "execution_count": null,
   "id": "8d889775",
   "metadata": {},
   "outputs": [],
   "source": []
  }
 ],
 "metadata": {
  "kernelspec": {
   "display_name": "Python 3",
   "language": "python",
   "name": "python3"
  },
  "language_info": {
   "codemirror_mode": {
    "name": "ipython",
    "version": 3
   },
   "file_extension": ".py",
   "mimetype": "text/x-python",
   "name": "python",
   "nbconvert_exporter": "python",
   "pygments_lexer": "ipython3",
   "version": "3.8.8"
  }
 },
 "nbformat": 4,
 "nbformat_minor": 5
}
