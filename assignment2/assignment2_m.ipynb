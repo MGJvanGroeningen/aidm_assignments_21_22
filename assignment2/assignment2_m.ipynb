{
 "cells": [
  {
   "cell_type": "code",
   "execution_count": null,
   "id": "1a6cc975",
   "metadata": {},
   "outputs": [],
   "source": [
    "import os\n",
    "import numpy as np\n",
    "import scipy.sparse as sps"
   ]
  },
  {
   "cell_type": "code",
   "execution_count": null,
   "id": "52f9bc23",
   "metadata": {},
   "outputs": [],
   "source": [
    "def load_data_into_matrix(filename):\n",
    "    data = np.load(filename)\n",
    "    data = sps.coo_matrix((data[:, 2], (data[:, 0] - 1, data[:, 1] - 1)), \n",
    "                          shape=(103703, 17770),\n",
    "                          dtype=np.int8)\n",
    "    return data\n",
    "\n",
    "def load_random_data_into_matrix(n_u, n_m):\n",
    "    matrix = np.random.randint(0, 5, (n_u, n_m))\n",
    "    return matrix\n",
    "\n",
    "def cosine_sim(u, v):\n",
    "    return 1 - np.arccos(np.dot(u, v) / np.sqrt(np.sum(np.square(u)) * np.sum(np.square(v)))) / np.pi"
   ]
  },
  {
   "cell_type": "code",
   "execution_count": null,
   "id": "430d7a43",
   "metadata": {},
   "outputs": [],
   "source": [
    "np.random.seed(42)\n",
    "\n",
    "username = os.getcwd().split('/')[2]\n",
    "print('username:', username)\n",
    "\n",
    "if username == 'mvgroeningen':\n",
    "    n_users = 100\n",
    "    n_movies = 50\n",
    "    rating_matrix = load_random_data_into_matrix(n_users, n_movies) \n",
    "else:\n",
    "    filename = 'user_movie_rating.npy'\n",
    "    rating_matrix = load_data_into_matrix(filename)"
   ]
  },
  {
   "cell_type": "code",
   "execution_count": null,
   "id": "2963db0e",
   "metadata": {},
   "outputs": [],
   "source": [
    "print(cosine_sim(rating_matrix[0], rating_matrix[8]))\n",
    "\n",
    "# rating_matrix = load_data_into_matrix(filename)\n",
    "\n",
    "# input_matrix[29][0]"
   ]
  }
 ],
 "metadata": {
  "kernelspec": {
   "display_name": "Python 3 (ipykernel)",
   "language": "python",
   "name": "python3"
  },
  "language_info": {
   "codemirror_mode": {
    "name": "ipython",
    "version": 3
   },
   "file_extension": ".py",
   "mimetype": "text/x-python",
   "name": "python",
   "nbconvert_exporter": "python",
   "pygments_lexer": "ipython3",
   "version": "3.8.11"
  }
 },
 "nbformat": 4,
 "nbformat_minor": 5
}
