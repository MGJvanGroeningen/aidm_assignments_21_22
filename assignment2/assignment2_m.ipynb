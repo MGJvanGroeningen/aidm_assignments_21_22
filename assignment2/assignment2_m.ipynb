{
 "cells": [
  {
   "cell_type": "code",
   "execution_count": 37,
   "id": "1a6cc975",
   "metadata": {},
   "outputs": [],
   "source": [
    "import os\n",
    "import numpy as np\n",
    "import scipy.sparse as sps\n",
    "from sys import getsizeof\n",
    "import time"
   ]
  },
  {
   "cell_type": "code",
   "execution_count": 2,
   "id": "52f9bc23",
   "metadata": {},
   "outputs": [],
   "source": [
    "def load_data_into_matrix(filename, n_users, n_movies):\n",
    "    data = np.load(filename)\n",
    "    data = sps.coo_matrix((data[:, 2], (data[:, 0] - 1, data[:, 1] - 1)), \n",
    "                          shape=(n_users, n_movies),\n",
    "                          dtype=np.int8)\n",
    "    return data\n",
    "\n",
    "\n",
    "def load_discrete_data_into_matrix(filename, n_users, n_movies, n_ratings):\n",
    "    data = np.load(filename)\n",
    "    data = sps.coo_matrix((np.ones((n_ratings)), (data[:, 0] - 1, data[:, 1] - 1)), \n",
    "                          shape=(n_users, n_movies),\n",
    "                          dtype=np.int8)\n",
    "    return data\n",
    "\n",
    "\n",
    "def load_random_data_into_matrix(n_u, n_m):\n",
    "    matrix = np.random.randint(0, 5, (n_u, n_m))\n",
    "    return matrix\n",
    "\n",
    "\n",
    "def cosine_sim(u, v):\n",
    "    return 1 - np.arccos(np.dot(u, v) / np.sqrt(np.sum(np.square(u)) * np.sum(np.square(v)))) / np.pi\n",
    "\n",
    "\n",
    "def make_random_projections(n_projections):\n",
    "    return np.random.choice([-1, 1], size=(n_projections, 17770))"
   ]
  },
  {
   "cell_type": "code",
   "execution_count": 3,
   "id": "430d7a43",
   "metadata": {},
   "outputs": [
    {
     "name": "stdout",
     "output_type": "stream",
     "text": [
      "username: home\n"
     ]
    }
   ],
   "source": [
    "np.random.seed(42)\n",
    "\n",
    "discrete = False\n",
    "\n",
    "username = os.getcwd().split('/')[2]\n",
    "print('username:', username)\n",
    "\n",
    "if username == 'mvgroeningen':\n",
    "    n_users = 100\n",
    "    n_movies = 50\n",
    "    rating_matrix = load_random_data_into_matrix(n_users, n_movies) \n",
    "else:\n",
    "    filename = 'user_movie_rating.npy'\n",
    "    n_users = 103703\n",
    "    n_movies = 17770\n",
    "    n_ratings = 65225506\n",
    "    if discrete:\n",
    "        rating_matrix = load_discrete_data_into_matrix(filename, n_users, n_movies, n_ratings)\n",
    "    else:\n",
    "        rating_matrix = load_data_into_matrix(filename, n_users, n_movies)"
   ]
  },
  {
   "cell_type": "code",
   "execution_count": 45,
   "id": "6ec217a9",
   "metadata": {},
   "outputs": [],
   "source": [
    "n_projections = 10\n",
    "v = make_random_projections(n_projections)\n",
    "signatures = np.zeros((n_users, n_projections))\n",
    "binary_array = np.array([2**i for i in np.arange(n_projections)[::-1]])"
   ]
  },
  {
   "cell_type": "code",
   "execution_count": 46,
   "id": "2963db0e",
   "metadata": {},
   "outputs": [
    {
     "name": "stdout",
     "output_type": "stream",
     "text": [
      "[  0. 136. 293. 388. 392. 400. 412. 416. 428. 431. 437. 523. 677. 685.\n",
      " 692. 896. 901. 911. 920. 932. 940.]\n",
      "[103683      1      1      1      1      1      1      1      1      1\n",
      "      1      1      1      1      1      1      1      1      1      1\n",
      "      1]\n",
      "[0.]\n",
      "8.057084798812866\n"
     ]
    }
   ],
   "source": [
    "t0 = time.time()\n",
    "for i in np.arange(n_users)[:20]:\n",
    "    row = rating_matrix.getrow(i)\n",
    "    indices = row.indices\n",
    "    signatures[i, :] = (np.dot(v[:, indices], row.toarray()[0][indices]) >=0).astype(int)\n",
    "\n",
    "signatures = np.dot(signatures, binary_array)\n",
    "u, c = np.unique(signatures, return_counts=True)\n",
    "dup = u[c > 1]\n",
    "\n",
    "print(u)\n",
    "print(c)\n",
    "print(dup)\n",
    "\n",
    "print(time.time() - t0)"
   ]
  }
 ],
 "metadata": {
  "kernelspec": {
   "display_name": "Python 3 (ipykernel)",
   "language": "python",
   "name": "python3"
  },
  "language_info": {
   "codemirror_mode": {
    "name": "ipython",
    "version": 3
   },
   "file_extension": ".py",
   "mimetype": "text/x-python",
   "name": "python",
   "nbconvert_exporter": "python",
   "pygments_lexer": "ipython3",
   "version": "3.8.12"
  }
 },
 "nbformat": 4,
 "nbformat_minor": 5
}
