{
 "cells": [
  {
   "cell_type": "code",
   "execution_count": 1,
   "id": "1a6cc975",
   "metadata": {},
   "outputs": [],
   "source": [
    "import os\n",
    "import numpy as np\n",
    "import scipy.sparse as sps\n",
    "from sys import getsizeof\n",
    "import time"
   ]
  },
  {
   "cell_type": "code",
   "execution_count": 2,
   "id": "52f9bc23",
   "metadata": {},
   "outputs": [],
   "source": [
    "def load_data_into_matrix(filename, n_users, n_movies):\n",
    "    data = np.load(filename)\n",
    "    ratings = data[:, 2]\n",
    "    users = data[:, 0] - 1\n",
    "    movies = data[:, 1] - 1\n",
    "    data = sps.coo_matrix((ratings, (users, movies)), shape=(n_users, n_movies), dtype=np.int8)\n",
    "    return data\n",
    "\n",
    "\n",
    "def load_discrete_data_into_matrix(filename, n_users, n_movies, n_ratings):\n",
    "    data = np.load(filename)\n",
    "    ratings = np.ones((n_ratings))\n",
    "    users = data[:, 0] - 1\n",
    "    movies = data[:, 1] - 1\n",
    "    data = sps.coo_matrix((ratings, (users, movies)), shape=(n_users, n_movies), dtype=np.int8)\n",
    "    return data\n",
    "\n",
    "\n",
    "def load_random_data_into_matrix(n_users, n_movies, n_ratings):\n",
    "    ratings = np.random.randint(0, 5, n_ratings)\n",
    "    users = np.random.randint(1, n_users, n_ratings) - 1\n",
    "    movies = np.random.randint(1, n_movies, n_ratings) - 1\n",
    "    data = sps.coo_matrix((ratings, (users, movies)), shape=(n_users, n_movies), dtype=np.int8)\n",
    "    return data\n",
    "\n",
    "\n",
    "def cosine_sim(u, v):\n",
    "    return 1 - np.arccos(np.dot(u, v) / np.sqrt(np.sum(np.square(u)) * np.sum(np.square(v)))) / np.pi\n",
    "\n",
    "\n",
    "def make_random_projections(n_projections, n_users):\n",
    "    return np.random.choice([-1, 1], size=(n_projections, n_users))\n",
    "\n",
    "\n",
    "def unique_pairs_from_array(a):\n",
    "    pairs = np.empty((0, 2))\n",
    "    n = len(a)\n",
    "    for idx, val in enumerate(a):\n",
    "        pairs_for_single_value = np.stack((np.tile(val, n - idx), a[idx:]), axis=1)\n",
    "        pairs = np.append(pairs, pairs_for_single_value, axis=0)\n",
    "    return pairs"
   ]
  },
  {
   "cell_type": "code",
   "execution_count": 3,
   "id": "430d7a43",
   "metadata": {},
   "outputs": [
    {
     "name": "stdout",
     "output_type": "stream",
     "text": [
      "username: mvgroeningen\n"
     ]
    }
   ],
   "source": [
    "np.random.seed(42)\n",
    "\n",
    "discrete = False\n",
    "\n",
    "username = os.getcwd().split('/')[2]\n",
    "print('username:', username)\n",
    "\n",
    "if username == 'mvgroeningen':\n",
    "    n_users = 1000\n",
    "    n_movies = 500\n",
    "    n_ratings = 10000\n",
    "    rating_matrix = load_random_data_into_matrix(n_users, n_movies, n_ratings) \n",
    "else:\n",
    "    filename = 'user_movie_rating.npy'\n",
    "    n_users = 103703\n",
    "    n_movies = 17770\n",
    "    n_ratings = 65225506\n",
    "    if discrete:\n",
    "        rating_matrix = load_discrete_data_into_matrix(filename, n_users, n_movies, n_ratings)\n",
    "    else:\n",
    "        rating_matrix = load_data_into_matrix(filename, n_users, n_movies)"
   ]
  },
  {
   "cell_type": "code",
   "execution_count": 4,
   "id": "2963db0e",
   "metadata": {},
   "outputs": [
    {
     "name": "stdout",
     "output_type": "stream",
     "text": [
      "4.737015247344971\n",
      "(263266, 2)\n"
     ]
    }
   ],
   "source": [
    "t0 = time.time()\n",
    "\n",
    "n_projections = 12\n",
    "projections_per_band = 3\n",
    "\n",
    "v = make_random_projections(n_projections, n_users)\n",
    "signatures = np.zeros((n_projections, n_users))\n",
    "n_bands = n_projections // projections_per_band\n",
    "binary_array = np.array([2**i for i in np.arange(projections_per_band)[::-1]])\n",
    "pairs = np.empty((0, 2))\n",
    "\n",
    "for i in np.arange(n_users):\n",
    "    row = rating_matrix.getrow(i)\n",
    "    indices = row.indices\n",
    "    signatures[:, i] = (np.dot(v[:, indices], row.toarray()[0][indices]) >=0).astype(int)\n",
    "\n",
    "for b in np.arange(n_bands):\n",
    "    start_of_band = b * projections_per_band\n",
    "    end_of_band = start_of_band + projections_per_band\n",
    "    band = signatures[start_of_band:end_of_band, :]\n",
    "    band = np.dot(binary_array, band).T\n",
    "    unique_values, _ = np.unique(band, axis=0, return_counts=True)\n",
    "    for u in unique_values:\n",
    "        indices_of_unique_value = np.where(band == u)[0]\n",
    "        pairs_of_unique_value = unique_pairs_from_array(indices_of_unique_value)\n",
    "        pairs = np.append(pairs, pairs_of_unique_value, axis=0)\n",
    "\n",
    "print(time.time() - t0)\n",
    "print(pairs.shape)"
   ]
  }
 ],
 "metadata": {
  "kernelspec": {
   "display_name": "Python 3 (ipykernel)",
   "language": "python",
   "name": "python3"
  },
  "language_info": {
   "codemirror_mode": {
    "name": "ipython",
    "version": 3
   },
   "file_extension": ".py",
   "mimetype": "text/x-python",
   "name": "python",
   "nbconvert_exporter": "python",
   "pygments_lexer": "ipython3",
   "version": "3.8.11"
  }
 },
 "nbformat": 4,
 "nbformat_minor": 5
}
