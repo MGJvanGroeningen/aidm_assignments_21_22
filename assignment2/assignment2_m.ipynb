{
 "cells": [
  {
   "cell_type": "code",
   "execution_count": 1,
   "id": "1a6cc975",
   "metadata": {},
   "outputs": [],
   "source": [
    "import os\n",
    "import numpy as np\n",
    "import scipy.sparse as sps\n",
    "from sys import getsizeof\n",
    "import time\n",
    "import itertools"
   ]
  },
  {
   "cell_type": "code",
   "execution_count": 2,
   "id": "52f9bc23",
   "metadata": {},
   "outputs": [],
   "source": [
    "def load_data_into_matrix(filename, n_users, n_movies):\n",
    "    data = np.load(filename)\n",
    "    ratings = data[:, 2]\n",
    "    users = data[:, 0] - 1\n",
    "    movies = data[:, 1] - 1\n",
    "    data = sps.coo_matrix((ratings, (users, movies)), shape=(n_users, n_movies), dtype=np.int8)\n",
    "    return data\n",
    "\n",
    "\n",
    "def load_discrete_data_into_matrix(filename, n_users, n_movies, n_ratings):\n",
    "    data = np.load(filename)\n",
    "    ratings = np.ones((n_ratings))\n",
    "    users = data[:, 0] - 1\n",
    "    movies = data[:, 1] - 1\n",
    "    data = sps.coo_matrix((ratings, (users, movies)), shape=(n_users, n_movies), dtype=np.int8)\n",
    "    return data\n",
    "\n",
    "\n",
    "def load_random_data_into_matrix(n_users, n_movies, n_ratings):\n",
    "    ratings = np.random.randint(0, 5, n_ratings)\n",
    "    users = np.random.randint(1, n_users, n_ratings) - 1\n",
    "    movies = np.random.randint(1, n_movies, n_ratings) - 1\n",
    "    data = sps.coo_matrix((ratings, (users, movies)), shape=(n_users, n_movies), dtype=np.int8)\n",
    "    return data\n",
    "\n",
    "\n",
    "def cosine_sim(u, v):\n",
    "    return 1 - np.arccos(np.dot(u, v) / np.sqrt(np.sum(np.square(u)) * np.sum(np.square(v)))) / np.pi\n",
    "\n",
    "\n",
    "def cosine_sim_sparse(u, v):\n",
    "    return 1 - np.arccos((u * v.T).toarray()[0, 0] / \n",
    "                         (np.sqrt(u.power(2).sum()) * np.sqrt(v.power(2).sum()))) / np.pi\n",
    "\n",
    "\n",
    "def make_random_projections(n_projections, n_users):\n",
    "    flat_v = np.random.choice([-1, 1], size=(n_projections * n_users))\n",
    "    mesh = np.array(np.meshgrid(np.arange(n_projections), np.arange(n_users))).T.reshape(-1,2)\n",
    "    projection_indices, user_indices = mesh[:, 0], mesh[:, 1]\n",
    "    return sps.coo_matrix((flat_v, (projection_indices, user_indices)), \n",
    "                          shape=(n_projections, n_users), dtype=np.int8)\n",
    "\n",
    "def unique_pairs_from_array(arr):\n",
    "    pairs = []\n",
    "    n = len(arr)\n",
    "    for idx, val in enumerate(arr[:-1]):\n",
    "        pairs_for_single_value = np.stack((np.tile(val, n - idx - 1), arr[idx + 1:]), axis=1)\n",
    "        pairs.append(pairs_for_single_value)\n",
    "    return np.concatenate(pairs, axis=0)\n",
    "\n",
    "def itertools_unique_pairs_from_array(arr):\n",
    "    return np.array(list(itertools.combinations(arr,2)))"
   ]
  },
  {
   "cell_type": "code",
   "execution_count": 3,
   "id": "430d7a43",
   "metadata": {},
   "outputs": [],
   "source": [
    "np.random.seed(42)\n",
    "\n",
    "random = False\n",
    "discrete = False\n",
    "\n",
    "if random:\n",
    "    n_users = 1000\n",
    "    n_movies = 10000\n",
    "    n_ratings = 1000000\n",
    "    rating_matrix = load_random_data_into_matrix(n_users, n_movies, n_ratings) \n",
    "else:\n",
    "    filename = 'user_movie_rating.npy'\n",
    "    n_users = 103703\n",
    "    n_movies = 17770\n",
    "    n_ratings = 65225506\n",
    "    if discrete:\n",
    "        rating_matrix = load_discrete_data_into_matrix(filename, n_users, n_movies, n_ratings)\n",
    "    else:\n",
    "        rating_matrix = load_data_into_matrix(filename, n_users, n_movies)"
   ]
  },
  {
   "cell_type": "code",
   "execution_count": 4,
   "id": "7086de9e",
   "metadata": {},
   "outputs": [],
   "source": [
    "n_bands = 6\n",
    "projections_per_band = 30\n",
    "n_projections = n_bands * projections_per_band"
   ]
  },
  {
   "cell_type": "code",
   "execution_count": 5,
   "id": "f03c92ef",
   "metadata": {},
   "outputs": [
    {
     "name": "stdout",
     "output_type": "stream",
     "text": [
      "Signatures shape: (180, 103703)\n",
      "Calculate signatures time: 28.338826417922974\n"
     ]
    }
   ],
   "source": [
    "# Calculate signatures\n",
    "\n",
    "t0 = time.time()\n",
    "\n",
    "v = make_random_projections(n_projections, n_movies)\n",
    "signatures = ((rating_matrix * v.T).toarray().T >= 0).astype(int)\n",
    "\n",
    "print('Signatures shape:', signatures.shape)\n",
    "\n",
    "signature_time = time.time()\n",
    "print('Calculate signatures time:', signature_time - t0)"
   ]
  },
  {
   "cell_type": "code",
   "execution_count": 6,
   "id": "b376a5dc",
   "metadata": {},
   "outputs": [
    {
     "name": "stdout",
     "output_type": "stream",
     "text": [
      "Find pairs time: 27.776695013046265\n",
      "Number of pairs: 106\n"
     ]
    }
   ],
   "source": [
    "# Find pairs\n",
    "\n",
    "t0 = time.time()\n",
    "\n",
    "binary_array = np.array([2**i for i in np.arange(projections_per_band)[::-1]])\n",
    "pairs = []\n",
    "\n",
    "for b in np.arange(n_bands):\n",
    "    start_of_band = b * projections_per_band\n",
    "    end_of_band = min(start_of_band + projections_per_band, n_projections)\n",
    "    band = signatures[start_of_band:end_of_band, :]\n",
    "    band = np.dot(binary_array, band).T\n",
    "    unique_values = np.unique(band, axis=0)\n",
    "    for u in unique_values:\n",
    "        indices_of_unique_value = np.where(band == u)[0]\n",
    "        if indices_of_unique_value.shape[0] > 1:\n",
    "            pairs_of_unique_value = unique_pairs_from_array(indices_of_unique_value)\n",
    "            pairs.append(pairs_of_unique_value)\n",
    "\n",
    "pairs = np.unique(np.concatenate(pairs, axis=0), axis=0)\n",
    "\n",
    "print('Find pairs time:', time.time() - t0)\n",
    "print('Number of pairs:', pairs.shape[0])"
   ]
  },
  {
   "cell_type": "code",
   "execution_count": 13,
   "id": "83f1ffd8",
   "metadata": {},
   "outputs": [
    {
     "name": "stdout",
     "output_type": "stream",
     "text": [
      "17770\n",
      "178 399 178 572\n",
      "17770\n",
      "97 353 97 341\n",
      "17770\n",
      "58 560 58 336\n",
      "17770\n",
      "147 981 147 451\n",
      "17770\n",
      "288 823 288 649\n",
      "17770\n",
      "157 330 157 534\n",
      "17770\n",
      "106 337 106 370\n",
      "17770\n",
      "123 353 123 324\n",
      "17770\n",
      "60 317 60 324\n",
      "17770\n",
      "121 372 121 479\n",
      "Calculate similarity time: 15.514370679855347\n"
     ]
    }
   ],
   "source": [
    "# Calculate cosine similarities\n",
    "\n",
    "t0 = time.time()\n",
    "\n",
    "sim = []\n",
    "for u1, u2 in pairs[:10]:\n",
    "    nz1 = np.nonzero(rating_matrix.getrow(u1).toarray()[0])[0]\n",
    "    nz2 = np.nonzero(rating_matrix.getrow(u2).toarray()[0])[0]\n",
    "    _, c = np.unique(np.append(nz1, nz2), return_counts=True)\n",
    "    n_same_movies = np.sum((c > 1).astype(int))\n",
    "    print(n_same_movies, nz1.shape[0], n_same_movies, nz2.shape[0])\n",
    "    sim.append(cosine_sim_sparse(rating_matrix.getrow(u1), rating_matrix.getrow(u2)))\n",
    "\n",
    "similar_pairs = pairs[:10][np.array(sim) > 0.73]\n",
    "print('Calculate similarity time:', time.time() - t0)"
   ]
  },
  {
   "cell_type": "code",
   "execution_count": 8,
   "id": "8edc1d35",
   "metadata": {},
   "outputs": [
    {
     "name": "stdout",
     "output_type": "stream",
     "text": [
      "Pair similarities: [0.49436827113731396, 0.4955488409627161, 0.4951506559156964, 0.5000432733334395, 0.5018078256017717, 0.49707702212119564, 0.4958590983123359, 0.5008311640889037, 0.49752883305432305, 0.5062154194337252]\n",
      "Number of pairs with cos_sim > 0.73: 0\n"
     ]
    }
   ],
   "source": [
    "## Print result\n",
    "\n",
    "print('Pair similarities:', sim)\n",
    "print('Number of pairs with cos_sim > 0.73:', similar_pairs.shape[0])"
   ]
  },
  {
   "cell_type": "code",
   "execution_count": 12,
   "id": "05e075c2",
   "metadata": {},
   "outputs": [
    {
     "name": "stdout",
     "output_type": "stream",
     "text": [
      "100 300 100 300\n",
      "0.5257619443311856\n"
     ]
    }
   ],
   "source": [
    "a = np.array(17000*[0] + 200*[5] + 200*[0] + 100*[5])\n",
    "b = np.array(17000*[0] + 200*[0] + 200*[5] + 100*[1])\n",
    "\n",
    "nz1 = np.nonzero(a)[0]\n",
    "nz2 = np.nonzero(b)[0]\n",
    "_, c = np.unique(np.append(nz1, nz2), return_counts=True)\n",
    "n_same_movies = np.sum((c > 1).astype(int))\n",
    "print(n_same_movies, nz1.shape[0], n_same_movies, nz2.shape[0])\n",
    "\n",
    "print(cosine_sim(a, b))"
   ]
  }
 ],
 "metadata": {
  "kernelspec": {
   "display_name": "Python 3 (ipykernel)",
   "language": "python",
   "name": "python3"
  },
  "language_info": {
   "codemirror_mode": {
    "name": "ipython",
    "version": 3
   },
   "file_extension": ".py",
   "mimetype": "text/x-python",
   "name": "python",
   "nbconvert_exporter": "python",
   "pygments_lexer": "ipython3",
   "version": "3.8.12"
  }
 },
 "nbformat": 4,
 "nbformat_minor": 5
}
