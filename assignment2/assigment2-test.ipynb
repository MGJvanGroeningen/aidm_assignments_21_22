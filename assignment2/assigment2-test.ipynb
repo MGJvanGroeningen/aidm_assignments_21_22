{
 "cells": [
  {
   "cell_type": "code",
   "execution_count": 1,
   "id": "be439162",
   "metadata": {},
   "outputs": [
    {
     "name": "stdout",
     "output_type": "stream",
     "text": [
      "Collecting numpy\n",
      "  Downloading numpy-1.21.4-cp38-cp38-manylinux_2_12_x86_64.manylinux2010_x86_64.whl (15.7 MB)\n",
      "\u001b[K     |████████████████████████████████| 15.7 MB 9.9 MB/s eta 0:00:01\n",
      "\u001b[?25hInstalling collected packages: numpy\n",
      "Successfully installed numpy-1.21.4\n"
     ]
    }
   ],
   "source": [
    "!pip install numpy"
   ]
  },
  {
   "cell_type": "code",
   "execution_count": 3,
   "id": "27b1fbb9",
   "metadata": {},
   "outputs": [
    {
     "name": "stdout",
     "output_type": "stream",
     "text": [
      "Collecting scipy\n",
      "  Downloading scipy-1.7.2-cp38-cp38-manylinux_2_17_x86_64.manylinux2014_x86_64.whl (39.3 MB)\n",
      "\u001b[K     |████████████████████████████████| 39.3 MB 29 kB/s s eta 0:00:01\n",
      "\u001b[?25hCollecting matplotlib\n",
      "  Downloading matplotlib-3.4.3-cp38-cp38-manylinux1_x86_64.whl (10.3 MB)\n",
      "\u001b[K     |████████████████████████████████| 10.3 MB 84.0 MB/s eta 0:00:01\n",
      "\u001b[?25hRequirement already satisfied: numpy<1.23.0,>=1.16.5 in /vol/home/s2487691/anaconda3/envs/aidm/lib/python3.8/site-packages (from scipy) (1.21.4)\n",
      "Requirement already satisfied: pyparsing>=2.2.1 in /vol/home/s2487691/anaconda3/envs/aidm/lib/python3.8/site-packages (from matplotlib) (2.4.7)\n",
      "Collecting kiwisolver>=1.0.1\n",
      "  Downloading kiwisolver-1.3.2-cp38-cp38-manylinux_2_5_x86_64.manylinux1_x86_64.whl (1.2 MB)\n",
      "\u001b[K     |████████████████████████████████| 1.2 MB 115.8 MB/s eta 0:00:01\n",
      "\u001b[?25hCollecting pillow>=6.2.0\n",
      "  Downloading Pillow-8.4.0-cp38-cp38-manylinux_2_17_x86_64.manylinux2014_x86_64.whl (3.1 MB)\n",
      "\u001b[K     |████████████████████████████████| 3.1 MB 50.6 MB/s eta 0:00:01\n",
      "\u001b[?25hCollecting cycler>=0.10\n",
      "  Downloading cycler-0.11.0-py3-none-any.whl (6.4 kB)\n",
      "Requirement already satisfied: python-dateutil>=2.7 in /vol/home/s2487691/anaconda3/envs/aidm/lib/python3.8/site-packages (from matplotlib) (2.8.2)\n",
      "Requirement already satisfied: six>=1.5 in /vol/home/s2487691/anaconda3/envs/aidm/lib/python3.8/site-packages (from python-dateutil>=2.7->matplotlib) (1.16.0)\n",
      "Installing collected packages: pillow, kiwisolver, cycler, scipy, matplotlib\n",
      "Successfully installed cycler-0.11.0 kiwisolver-1.3.2 matplotlib-3.4.3 pillow-8.4.0 scipy-1.7.2\n"
     ]
    }
   ],
   "source": [
    "!pip install scipy matplotlib"
   ]
  },
  {
   "cell_type": "code",
   "execution_count": 1,
   "id": "cd5c8f35",
   "metadata": {},
   "outputs": [],
   "source": [
    "import os\n",
    "import numpy as np\n",
    "import scipy.sparse as sps"
   ]
  },
  {
   "cell_type": "code",
   "execution_count": 2,
   "id": "a3ded736",
   "metadata": {},
   "outputs": [],
   "source": [
    "filename = 'user_movie_rating.npy'"
   ]
  },
  {
   "cell_type": "code",
   "execution_count": 3,
   "id": "46605432",
   "metadata": {},
   "outputs": [],
   "source": [
    "def load_data_into_matrix (filename):\n",
    "    data = np.load(filename)\n",
    "    input_matrix = sps.coo_matrix((data[:,2], (data[:,0]-1, data[:,1]-1)), \n",
    "                                  shape=(data[-1,0],data[:,1].max()+1),dtype=np.int8)\n",
    "    \n",
    "    return input_matrix\n",
    "    "
   ]
  },
  {
   "cell_type": "code",
   "execution_count": 4,
   "id": "c3b92203",
   "metadata": {},
   "outputs": [],
   "source": [
    "input_matrix = load_data_into_matrix(filename)"
   ]
  },
  {
   "cell_type": "code",
   "execution_count": 8,
   "id": "ee446e94",
   "metadata": {},
   "outputs": [],
   "source": [
    "user_id = data[:,0]-1\n",
    "movie_id = data[:,1]-1\n",
    "rating = data[:,2]"
   ]
  },
  {
   "cell_type": "code",
   "execution_count": 9,
   "id": "23993d00",
   "metadata": {},
   "outputs": [
    {
     "data": {
      "text/plain": [
       "(array([     0,      0,      0, ..., 103702, 103702, 103702]),\n",
       " array([   29,   156,   172, ..., 17621, 17626, 17763]))"
      ]
     },
     "execution_count": 9,
     "metadata": {},
     "output_type": "execute_result"
    }
   ],
   "source": [
    "user_id,movie_id"
   ]
  },
  {
   "cell_type": "code",
   "execution_count": 10,
   "id": "0f9091e3",
   "metadata": {},
   "outputs": [],
   "source": []
  },
  {
   "cell_type": "code",
   "execution_count": 7,
   "id": "6d9f3dfb",
   "metadata": {},
   "outputs": [],
   "source": [
    "input_matrix=input_matrix.toarray()"
   ]
  },
  {
   "cell_type": "code",
   "execution_count": 12,
   "id": "95894fbd",
   "metadata": {},
   "outputs": [
    {
     "data": {
      "text/plain": [
       "3"
      ]
     },
     "execution_count": 12,
     "metadata": {},
     "output_type": "execute_result"
    }
   ],
   "source": [
    "input_matrix[29][0]"
   ]
  },
  {
   "cell_type": "code",
   "execution_count": null,
   "id": "1c5a0bf5",
   "metadata": {},
   "outputs": [],
   "source": []
  }
 ],
 "metadata": {
  "kernelspec": {
   "display_name": "Python 3",
   "language": "python",
   "name": "python3"
  },
  "language_info": {
   "codemirror_mode": {
    "name": "ipython",
    "version": 3
   },
   "file_extension": ".py",
   "mimetype": "text/x-python",
   "name": "python",
   "nbconvert_exporter": "python",
   "pygments_lexer": "ipython3",
   "version": "3.8.12"
  }
 },
 "nbformat": 4,
 "nbformat_minor": 5
}
