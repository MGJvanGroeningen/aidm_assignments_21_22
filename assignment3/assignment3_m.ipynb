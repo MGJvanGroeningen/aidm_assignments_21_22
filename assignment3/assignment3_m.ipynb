{
 "cells": [
  {
   "cell_type": "markdown",
   "metadata": {},
   "source": [
    "# Imports"
   ]
  },
  {
   "cell_type": "code",
   "execution_count": 1,
   "metadata": {},
   "outputs": [],
   "source": [
    "import numpy as np\n",
    "import matplotlib.pyplot as plt\n",
    "import pandas as pd\n",
    "import os\n",
    "from sklearn.decomposition import PCA\n",
    "from sklearn.manifold import LocallyLinearEmbedding, TSNE"
   ]
  },
  {
   "cell_type": "markdown",
   "metadata": {},
   "source": [
    "# Load data"
   ]
  },
  {
   "cell_type": "code",
   "execution_count": 2,
   "metadata": {},
   "outputs": [
    {
     "name": "stdout",
     "output_type": "stream",
     "text": [
      "Number of data points: 170\n",
      "Number of features/statements: 54\n"
     ]
    }
   ],
   "source": [
    "\"\"\"\n",
    "Data obtained from: https://archive.ics.uci.edu/ml/datasets/Divorce+Predictors+data+set\n",
    "\"\"\"\n",
    "\n",
    "data_dir = 'data'\n",
    "\n",
    "with open(os.path.join(data_dir, 'divorce.csv')) as clean_data_file:\n",
    "    data = pd.read_csv(clean_data_file, delimiter=';')\n",
    "    \n",
    "X = data.iloc[:, :-1].to_numpy()\n",
    "y = data.iloc[:, -1].to_numpy()\n",
    "\n",
    "divorced = y.astype(bool)\n",
    "married = ~divorced\n",
    "\n",
    "print('Number of data points:', X.shape[0])\n",
    "print('Number of features/statements:', X.shape[1])"
   ]
  },
  {
   "cell_type": "code",
   "execution_count": 3,
   "metadata": {},
   "outputs": [],
   "source": [
    "statements = {'1': \"If one of us apologizes when our discussion deteriorates, the discussion ends.\",\n",
    "'2': \"I know we can ignore our differences, even if things get hard sometimes.\",\n",
    "'3': \"When we need it, we can take our discussions with my spouse from the beginning and correct it.\",\n",
    "'4': \"When I discuss with my spouse, to contact him will eventually work.\",\n",
    "'5': \"The time I spent with my wife is special for us.\",\n",
    "'6': \"We don't have time at home as partners.\",\n",
    "'7': \"We are like two strangers who share the same environment at home rather than family.\",\n",
    "'8': \"I enjoy our holidays with my wife.\",\n",
    "'9': \"I enjoy traveling with my wife.\",\n",
    "'10': \"Most of our goals are common to my spouse.\",\n",
    "'11': \"I think that one day in the future, when I look back, I see that my spouse and I have been in harmony with each other.\",\n",
    "'12': \"My spouse and I have similar values in terms of personal freedom.\",\n",
    "'13': \"My spouse and I have similar sense of entertainment.\",\n",
    "'14': \"Most of our goals for people (children, friends, etc.) are the same.\",\n",
    "'15': \"Our dreams with my spouse are similar and harmonious.\",\n",
    "'16': \"We're compatible with my spouse about what love should be.\",\n",
    "'17': \"We share the same views about being happy in our life with my spouse\",\n",
    "'18': \"My spouse and I have similar ideas about how marriage should be\",\n",
    "'19': \"My spouse and I have similar ideas about how roles should be in marriage\",\n",
    "'20': \"My spouse and I have similar values in trust.\",\n",
    "'21': \"I know exactly what my wife likes.\",\n",
    "'22': \"I know how my spouse wants to be taken care of when she/he sick.\",\n",
    "'23': \"I know my spouse's favorite food.\",\n",
    "'24': \"I can tell you what kind of stress my spouse is facing in her/his life.\",\n",
    "'25': \"I have knowledge of my spouse's inner world.\",\n",
    "'26': \"I know my spouse's basic anxieties.\",\n",
    "'27': \"I know what my spouse's current sources of stress are.\",\n",
    "'28': \"I know my spouse's hopes and wishes.\",\n",
    "'29': \"I know my spouse very well.\",\n",
    "'30': \"I know my spouse's friends and their social relationships.\",\n",
    "'31': \"I feel aggressive when I argue with my spouse.\",\n",
    "'32': \"When discussing with my spouse, I usually use expressions such as ‘you always’ or ‘you never’ .\",\n",
    "'33': \"I can use negative statements about my spouse's personality during our discussions.\",\n",
    "'34': \"I can use offensive expressions during our discussions.\",\n",
    "'35': \"I can insult my spouse during our discussions.\",\n",
    "'36': \"I can be humiliating when we discussions.\",\n",
    "'37': \"My discussion with my spouse is not calm.\",\n",
    "'38': \"I hate my spouse's way of open a subject.\",\n",
    "'39': \"Our discussions often occur suddenly.\",\n",
    "'40': \"We're just starting a discussion before I know what's going on.\",\n",
    "'41': \"When I talk to my spouse about something, my calm suddenly breaks.\",\n",
    "'42': \"When I argue with my spouse, ı only go out and I don't say a word.\",\n",
    "'43': \"I mostly stay silent to calm the environment a little bit.\",\n",
    "'44': \"Sometimes I think it's good for me to leave home for a while.\",\n",
    "'45': \"I'd rather stay silent than discuss with my spouse.\",\n",
    "'46': \"Even if I'm right in the discussion, I stay silent to hurt my spouse.\",\n",
    "'47': \"When I discuss with my spouse, I stay silent because I am afraid of not being able to control my anger.\",\n",
    "'48': \"I feel right in our discussions.\",\n",
    "'49': \"I have nothing to do with what I've been accused of.\",\n",
    "'50': \"I'm not actually the one who's guilty about what I'm accused of.\",\n",
    "'51': \"I'm not the one who's wrong about problems at home.\",\n",
    "'52': \"I wouldn't hesitate to tell my spouse about her/his inadequacy.\",\n",
    "'53': \"When I discuss, I remind my spouse of her/his inadequacy.\",\n",
    "'54': \"I'm not afraid to tell my spouse about her/his incompetence.\"}"
   ]
  },
  {
   "cell_type": "markdown",
   "metadata": {},
   "source": [
    "# Explore data"
   ]
  },
  {
   "cell_type": "code",
   "execution_count": 4,
   "metadata": {
    "scrolled": true
   },
   "outputs": [
    {
     "name": "stdout",
     "output_type": "stream",
     "text": [
      "Statement: I enjoy traveling with my wife.\n",
      "Divorced subset answers: [0 4 1 3 0 0 2 3 3 2]\n",
      "Married subset answers: [0 1 0 0 0 0 0 0 0 0]\n",
      " \n",
      "Statement: I think that one day in the future, when I look back, I see that my spouse and I have been in harmony with each other.\n",
      "Divorced subset answers: [1 4 3 4 0 0 2 4 3 3]\n",
      "Married subset answers: [0 1 0 1 0 0 0 0 0 0]\n",
      " \n",
      "Statement: My spouse and I have similar ideas about how marriage should be\n",
      "Divorced subset answers: [0 4 3 3 1 1 3 3 3 2]\n",
      "Married subset answers: [0 1 0 0 0 0 0 0 0 0]\n",
      " \n",
      "Statement: My spouse and I have similar ideas about how roles should be in marriage\n",
      "Divorced subset answers: [0 3 3 3 2 0 3 2 3 1]\n",
      "Married subset answers: [0 0 0 0 0 0 0 0 0 0]\n",
      " \n",
      "Statement: I know my spouse's basic anxieties.\n",
      "Divorced subset answers: [0 1 2 1 2 2 3 3 3 1]\n",
      "Married subset answers: [0 0 0 1 1 0 0 1 0 0]\n",
      " \n",
      "Statement: We're just starting a discussion before I know what's going on.\n",
      "Divorced subset answers: [3 4 3 4 1 2 3 4 2 2]\n",
      "Married subset answers: [1 0 0 0 0 0 1 2 1 0]\n",
      " \n"
     ]
    }
   ],
   "source": [
    "\"\"\"\n",
    "Features meaning: 0 = 'strongly agree', 4 = 'strongly disagree'\n",
    "Labels meaning: 0 = 'married', 1 = 'divorced'\n",
    "\n",
    "The words 'wife' and 'spouse' should be considered interchangeable in the statements.\n",
    "The statements are presumably translated from Turkish \n",
    "and the meaning of the statements in English is unfortunately not always 100% clear.\n",
    "\n",
    "Original paper link:\n",
    "https://dergipark.org.tr/en/pub/nevsosbilen/issue/46568/549416\n",
    "\n",
    "Data was collected through face-to-face interviews and Google drive questionaires. \n",
    "Divorced participants were asked to reflect back(!) on their marriage.\n",
    "Married participants only included happy marriages, i.e. those that did not have any thoughts about divorce.\n",
    "\n",
    "Reported characteristics of participants:\n",
    "- divorced: 84 (49%), married 86 (51%) \n",
    "- male 84 (49%), female 86 (51%) \n",
    "- age: min 20, max 63, mean 36.04, std 9.34\n",
    "- 7 different regions in Turkey, predominantly from the Black Sea region 79 (46.4%)\n",
    "- married for love 74 (43.5%), arranged marriage 96 (56.5%) \n",
    "- with children 127 (74.7%), without children 43 (25.3%)\n",
    "- primary school graduate 18 (10.58%), secondary school graduate 15 (8.8%), high school graduate 33 (19.41%),\n",
    "college graduate 88 (51.76%), master degree 15 (8.8%)\n",
    "- income: <2000 TL 34 (20%), 2001-3000 TL 54 (31.76%), 3001-4000 TL 28 (16.47%), >4000 TL 54 (31.76%)\n",
    "\n",
    "Another analysis of the data: (statements 9, 11, 18, 19, 26, and 40 are determined to be the best predictors)\n",
    "https://ongjk.github.io/supervise.html\n",
    "\n",
    "Kaggle also has the dataset: (note the statements are sometimes formulated differently in the description)\n",
    "https://www.kaggle.com/adisak/divorce-predictors-data-set\n",
    "\"\"\"\n",
    "\n",
    "n_examples = 10\n",
    "atrs = [9, 11, 18, 19, 26, 40]\n",
    "\n",
    "for atr in atrs:\n",
    "    print('Statement:', statements[str(atr)])\n",
    "    print('Divorced subset answers:', data[:n_examples][f'Atr{atr}'].values)\n",
    "    print('Married subset answers:', data[-n_examples:][f'Atr{atr}'].values)\n",
    "    print(' ')"
   ]
  },
  {
   "cell_type": "markdown",
   "metadata": {},
   "source": [
    "# Functions"
   ]
  },
  {
   "cell_type": "code",
   "execution_count": 5,
   "metadata": {},
   "outputs": [],
   "source": [
    "def plot_components(comp_divorced, comp_married, comp1, comp2, method):\n",
    "    fig, ax = plt.subplots(figsize=(8,8))\n",
    "    ax.scatter(comp_divorced.T[comp1 - 1], comp_divorced.T[comp2 - 1], label='divorced')\n",
    "    ax.scatter(comp_married.T[comp1 - 1], comp_married.T[comp2 - 1], label='married')\n",
    "    ax.set_title(f'{method} components {comp1} and {comp2}')\n",
    "    ax.set_xlabel(f'component {comp1}')\n",
    "    ax.set_ylabel(f'component {comp2}')\n",
    "    ax.legend()\n",
    "    plt.show()"
   ]
  },
  {
   "cell_type": "markdown",
   "metadata": {},
   "source": [
    "# PCA"
   ]
  },
  {
   "cell_type": "code",
   "execution_count": 6,
   "metadata": {},
   "outputs": [
    {
     "name": "stdout",
     "output_type": "stream",
     "text": [
      "Component 1 accounts for 77.22180991968564% of the variance.\n",
      "Component 2 accounts for 3.5265046871057826% of the variance.\n"
     ]
    },
    {
     "data": {
      "image/png": "[encoded data removed]",
      "text/plain": [
       "<Figure size 576x576 with 1 Axes>"
      ]
     },
     "metadata": {
      "needs_background": "light"
     },
     "output_type": "display_data"
    }
   ],
   "source": [
    "# Reduce the data to a number of components\n",
    "n_comp = 2\n",
    "pca = PCA(n_components=n_comp)\n",
    "fit = pca.fit(X)\n",
    "comp = fit.transform(X)\n",
    "\n",
    "# Divide into divorced and married subset\n",
    "comp_divorced = comp[divorced]\n",
    "comp_married = comp[married]\n",
    "\n",
    "# Select components\n",
    "comp1 = 1\n",
    "comp2 = 2\n",
    "\n",
    "# Print the variance explained by the components\n",
    "var = pca.explained_variance_ratio_\n",
    "print(f'Component {comp1} accounts for {var[comp1 - 1] * 100}% of the variance.')\n",
    "print(f'Component {comp2} accounts for {var[comp2 - 1] * 100}% of the variance.')\n",
    "\n",
    "# Plot components\n",
    "plot_components(comp_divorced, comp_married, comp1, comp2, method='PCA')"
   ]
  },
  {
   "cell_type": "markdown",
   "metadata": {},
   "source": [
    "# LLE"
   ]
  },
  {
   "cell_type": "code",
   "execution_count": 7,
   "metadata": {},
   "outputs": [
    {
     "data": {
      "image/png": "[encoded data removed]",
      "text/plain": [
       "<Figure size 576x576 with 1 Axes>"
      ]
     },
     "metadata": {
      "needs_background": "light"
     },
     "output_type": "display_data"
    }
   ],
   "source": [
    "# Reduce the data to a number of components\n",
    "n_comp = 2\n",
    "lle = LocallyLinearEmbedding(n_components=n_comp)\n",
    "comp = lle.fit_transform(X, y=y)\n",
    "\n",
    "# Divide into divorced and married subset\n",
    "comp_divorced = comp[divorced]\n",
    "comp_married = comp[married]\n",
    "\n",
    "# Select components\n",
    "comp1 = 1\n",
    "comp2 = 2\n",
    "\n",
    "# Plot components\n",
    "plot_components(comp_divorced, comp_married, comp1, comp2, method='LLE')"
   ]
  },
  {
   "cell_type": "markdown",
   "metadata": {},
   "source": [
    "# t-SNE"
   ]
  },
  {
   "cell_type": "code",
   "execution_count": 8,
   "metadata": {},
   "outputs": [
    {
     "data": {
      "image/png": "[encoded data removed]",
      "text/plain": [
       "<Figure size 576x576 with 1 Axes>"
      ]
     },
     "metadata": {
      "needs_background": "light"
     },
     "output_type": "display_data"
    }
   ],
   "source": [
    "# Reduce the data to a number of components\n",
    "n_comp = 2\n",
    "tsne = TSNE(n_components=n_comp, random_state=42)\n",
    "comp = tsne.fit_transform(X, y=y)\n",
    "\n",
    "# Divide into divorced and married subset\n",
    "comp_divorced = comp[divorced]\n",
    "comp_married = comp[married]\n",
    "\n",
    "# Select components\n",
    "comp1 = 1\n",
    "comp2 = 2\n",
    "\n",
    "# Plot components\n",
    "plot_components(comp_divorced, comp_married, comp1, comp2, method='t-SNE')"
   ]
  }
 ],
 "metadata": {
  "kernelspec": {
   "display_name": "Python 3",
   "language": "python",
   "name": "python3"
  },
  "language_info": {
   "codemirror_mode": {
    "name": "ipython",
    "version": 3
   },
   "file_extension": ".py",
   "mimetype": "text/x-python",
   "name": "python",
   "nbconvert_exporter": "python",
   "pygments_lexer": "ipython3",
   "version": "3.8.3"
  }
 },
 "nbformat": 4,
 "nbformat_minor": 5
}
