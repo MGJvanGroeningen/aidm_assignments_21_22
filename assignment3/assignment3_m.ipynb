{
 "cells": [
  {
   "cell_type": "code",
   "execution_count": 4,
   "id": "4e36dc1e",
   "metadata": {},
   "outputs": [],
   "source": [
    "import numpy as np\n",
    "import matplotlib.pyplot as plt\n",
    "import pandas as pd\n",
    "import os\n",
    "\n",
    "data_dir = 'data'\n",
    "\n",
    "with open(os.path.join(data_dir, 'divorce.csv')) as clean_data_file:\n",
    "    data = pd.read_csv(clean_data_file, delimiter=';')"
   ]
  },
  {
   "cell_type": "code",
   "execution_count": 5,
   "id": "484b04e5",
   "metadata": {},
   "outputs": [
    {
     "name": "stdout",
     "output_type": "stream",
     "text": [
      "(170, 55)\n"
     ]
    }
   ],
   "source": [
    "print(data.shape)"
   ]
  },
  {
   "cell_type": "code",
   "execution_count": 6,
   "id": "34523502",
   "metadata": {},
   "outputs": [
    {
     "name": "stdout",
     "output_type": "stream",
     "text": [
      "   Atr1  Atr2  Atr3  Atr4  Atr5  Atr6  Atr7  Atr8  Atr9  Atr10  ...  Atr46  \\\n",
      "0     2     2     4     1     0     0     0     0     0      0  ...      2   \n",
      "1     4     4     4     4     4     0     0     4     4      4  ...      2   \n",
      "2     2     2     2     2     1     3     2     1     1      2  ...      3   \n",
      "3     3     2     3     2     3     3     3     3     3      3  ...      2   \n",
      "4     2     2     1     1     1     1     0     0     0      0  ...      2   \n",
      "5     0     0     1     0     0     2     0     0     0      1  ...      2   \n",
      "6     3     3     3     2     1     3     4     3     2      2  ...      3   \n",
      "7     2     1     2     2     2     1     0     3     3      2  ...      0   \n",
      "8     2     2     1     0     0     4     1     3     3      3  ...      1   \n",
      "9     1     1     1     1     1     2     0     2     2      2  ...      2   \n",
      "\n",
      "   Atr47  Atr48  Atr49  Atr50  Atr51  Atr52  Atr53  Atr54  Class  \n",
      "0      1      3      3      3      2      3      2      1      1  \n",
      "1      2      3      4      4      4      4      2      2      1  \n",
      "2      2      3      1      1      1      2      2      2      1  \n",
      "3      2      3      3      3      3      2      2      2      1  \n",
      "4      1      2      3      2      2      2      1      0      1  \n",
      "5      2      1      2      1      1      1      2      0      1  \n",
      "6      2      3      2      3      3      2      2      2      1  \n",
      "7      1      2      2      2      1      1      1      0      1  \n",
      "8      1      1      1      1      1      1      1      1      1  \n",
      "9      0      2      2      2      2      4      3      3      1  \n",
      "\n",
      "[10 rows x 55 columns]\n"
     ]
    }
   ],
   "source": [
    "print(data[:10])"
   ]
  },
  {
   "cell_type": "code",
   "execution_count": 12,
   "id": "471d4e78",
   "metadata": {},
   "outputs": [
    {
     "name": "stdout",
     "output_type": "stream",
     "text": [
      "[[2 2 4 1 0 0 0 0 0 0 1 0 1 1 0 1 0 0 0 1 0 0 0 0 0 0 0 0 0 1 1 2 1 2 0 1\n",
      "  2 1 3 3 2 1 1 2 3 2 1 3 3 3 2 3 2 1]\n",
      " [4 4 4 4 4 0 0 4 4 4 4 3 4 0 4 4 4 4 3 2 1 1 0 2 2 1 2 0 1 1 0 4 2 3 0 2\n",
      "  3 4 2 4 2 2 3 4 2 2 2 3 4 4 4 4 2 2]\n",
      " [2 2 2 2 1 3 2 1 1 2 3 4 2 3 3 3 3 3 3 2 1 0 1 2 2 2 2 2 3 2 3 3 1 1 1 1\n",
      "  2 1 3 3 3 3 2 3 2 3 2 3 1 1 1 2 2 2]\n",
      " [3 2 3 2 3 3 3 3 3 3 4 3 3 4 3 3 3 3 3 4 1 1 1 1 2 1 1 1 1 3 2 3 2 2 1 1\n",
      "  3 3 4 4 2 2 3 2 3 2 2 3 3 3 3 2 2 2]\n",
      " [2 2 1 1 1 1 0 0 0 0 0 1 0 1 1 1 1 1 2 1 1 0 0 0 0 2 1 2 1 1 1 1 1 1 0 0\n",
      "  0 0 2 1 0 2 3 0 2 2 1 2 3 2 2 2 1 0]\n",
      " [0 0 1 0 0 2 0 0 0 1 0 2 1 0 2 0 2 1 0 1 0 0 0 0 2 2 0 0 0 0 4 1 1 1 1 1\n",
      "  1 2 0 2 2 1 2 3 0 2 2 1 2 1 1 1 2 0]\n",
      " [3 3 3 2 1 3 4 3 2 2 2 2 2 3 2 3 3 3 3 2 3 3 3 3 2 3 3 2 2 2 1 2 2 1 1 2\n",
      "  3 2 2 3 3 3 3 4 3 3 2 3 2 3 3 2 2 2]\n",
      " [2 1 2 2 2 1 0 3 3 2 4 3 2 3 4 3 2 3 2 1 2 1 1 2 3 3 2 2 2 3 1 1 0 2 2 1\n",
      "  4 4 4 4 4 4 3 2 0 0 1 2 2 2 1 1 1 0]\n",
      " [2 2 1 0 0 4 1 3 3 3 3 3 3 3 3 3 3 3 3 3 2 2 2 3 2 3 2 3 2 3 1 1 1 1 1 1\n",
      "  1 2 2 2 2 2 2 2 2 1 1 1 1 1 1 1 1 1]\n",
      " [1 1 1 1 1 2 0 2 2 2 3 0 0 2 1 0 1 2 1 0 0 0 0 1 1 1 1 1 1 1 1 1 0 1 0 0\n",
      "  1 1 2 2 1 2 3 2 2 2 0 2 2 2 2 4 3 3]]\n"
     ]
    }
   ],
   "source": [
    "X = data.iloc[:, :-1].to_numpy()\n",
    "y = data.iloc[:, -1].to_numpy()\n",
    "print(X[:10])"
   ]
  },
  {
   "cell_type": "code",
   "execution_count": 14,
   "id": "9e819f2d",
   "metadata": {},
   "outputs": [
    {
     "ename": "SyntaxError",
     "evalue": "EOL while scanning string literal (<ipython-input-14-27730fe3298e>, line 6)",
     "output_type": "error",
     "traceback": [
      "\u001b[0;36m  File \u001b[0;32m\"<ipython-input-14-27730fe3298e>\"\u001b[0;36m, line \u001b[0;32m6\u001b[0m\n\u001b[0;31m    '6': \"We don't have time at home as partners.,\u001b[0m\n\u001b[0m                                                  ^\u001b[0m\n\u001b[0;31mSyntaxError\u001b[0m\u001b[0;31m:\u001b[0m EOL while scanning string literal\n"
     ]
    }
   ],
   "source": [
    "statements = {'1': \"If one of us apologizes when our discussion deteriorates, the discussion ends.\",\n",
    "'2': \"I know we can ignore our differences, even if things get hard sometimes.\",\n",
    "'3': \"When we need it, we can take our discussions with my spouse from the beginning and correct it.\",\n",
    "'4': \"When I discuss with my spouse, to contact him will eventually work.\",\n",
    "'5': \"The time I spent with my wife is special for us.\",\n",
    "'6': \"We don't have time at home as partners.\",\n",
    "'7': \"We are like two strangers who share the same environment at home rather than family.\",\n",
    "'8': \"I enjoy our holidays with my wife.\",\n",
    "'9': \"I enjoy traveling with my wife.\",\n",
    "'10': \"Most of our goals are common to my spouse.\",\n",
    "'11': \"I think that one day in the future, when I look back, I see that my spouse and I have been in harmony with each other.\",\n",
    "'12': \"My spouse and I have similar values in terms of personal freedom.\",\n",
    "'13': \"My spouse and I have similar sense of entertainment.\",\n",
    "'14': \"Most of our goals for people (children, friends, etc.) are the same.\",\n",
    "'15': \"Our dreams with my spouse are similar and harmonious.\",\n",
    "'16': \"We're compatible with my spouse about what love should be.\",\n",
    "'17': \"We share the same views about being happy in our life with my spouse\",\n",
    "'18': \"My spouse and I have similar ideas about how marriage should be\",\n",
    "'19': \"My spouse and I have similar ideas about how roles should be in marriage\",\n",
    "'20: \"My spouse and I have similar values in trust.\",\n",
    "'21': \"I know exactly what my wife likes.\",\n",
    "'22': \"I know how my spouse wants to be taken care of when she/he sick.\",\n",
    "'23': \"I know my spouse's favorite food.\",\n",
    "'24': \"I can tell you what kind of stress my spouse is facing in her/his life.\",\n",
    "'25': \"I have knowledge of my spouse's inner world.\",\n",
    "'26': \"I know my spouse's basic anxieties.\",\n",
    "'27': \"I know what my spouse's current sources of stress are.\",\n",
    "'28': \"I know my spouse's hopes and wishes.\",\n",
    "'29': \"I know my spouse very well.\",\n",
    "'30': \"I know my spouse's friends and their social relationships.\",\n",
    "'31': \"I feel aggressive when I argue with my spouse.\",\n",
    "'32': \"When discussing with my spouse, I usually use expressions such as ‘you always’ or ‘you never’ .\",\n",
    "'33': \"I can use negative statements about my spouse's personality during our discussions.\",\n",
    "'34': \"I can use offensive expressions during our discussions.\",\n",
    "'35': \"I can insult my spouse during our discussions.\",\n",
    "'36': \"I can be humiliating when we discussions.\",\n",
    "'37': \"My discussion with my spouse is not calm.\",\n",
    "'38': \"I hate my spouse's way of open a subject.\",\n",
    "'39': \"Our discussions often occur suddenly.\",\n",
    "'40': \"We're just starting a discussion before I know what's going on.\",\n",
    "'41': \"When I talk to my spouse about something, my calm suddenly breaks.\",\n",
    "'42': \"When I argue with my spouse, ı only go out and I don't say a word.\",\n",
    "'43': \"I mostly stay silent to calm the environment a little bit.\",\n",
    "'44': \"Sometimes I think it's good for me to leave home for a while.\",\n",
    "'45': \"I'd rather stay silent than discuss with my spouse.\",\n",
    "'46': \"Even if I'm right in the discussion, I stay silent to hurt my spouse.\",\n",
    "'47': \"When I discuss with my spouse, I stay silent because I am afraid of not being able to control my anger.\",\n",
    "'48': \"I feel right in our discussions.\",\n",
    "'49': \"I have nothing to do with what I've been accused of.\",\n",
    "'50': \"I'm not actually the one who's guilty about what I'm accused of.\",\n",
    "'51': \"I'm not the one who's wrong about problems at home.\",\n",
    "'52': \"I wouldn't hesitate to tell my spouse about her/his inadequacy.\",\n",
    "'53': \"When I discuss, I remind my spouse of her/his inadequacy.\",\n",
    "'54': \"I'm not afraid to tell my spouse about her/his incompetence.\"} \n",
    "print(statements['1'])"
   ]
  }
 ],
 "metadata": {
  "kernelspec": {
   "display_name": "Python 3",
   "language": "python",
   "name": "python3"
  },
  "language_info": {
   "codemirror_mode": {
    "name": "ipython",
    "version": 3
   },
   "file_extension": ".py",
   "mimetype": "text/x-python",
   "name": "python",
   "nbconvert_exporter": "python",
   "pygments_lexer": "ipython3",
   "version": "3.8.8"
  }
 },
 "nbformat": 4,
 "nbformat_minor": 5
}
