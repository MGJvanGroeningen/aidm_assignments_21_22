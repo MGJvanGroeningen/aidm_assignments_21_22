{
 "cells": [
  {
   "cell_type": "code",
   "execution_count": 18,
   "id": "1f51a560",
   "metadata": {},
   "outputs": [],
   "source": [
    "import numpy as np\n",
    "import matplotlib.pyplot as plt\n",
    "import warnings\n",
    "warnings.filterwarnings(\"ignore\", category=DeprecationWarning) "
   ]
  },
  {
   "cell_type": "code",
   "execution_count": 14,
   "id": "d8c7f6ee",
   "metadata": {},
   "outputs": [],
   "source": [
    "def unique_value(n,N):\n",
    "    numlist = np.random.random_integers(0,N,n)\n",
    "    repeat = len(np.unique(numlist))\n",
    "    \n",
    "    return repeat"
   ]
  },
  {
   "cell_type": "markdown",
   "id": "b35d30cb",
   "metadata": {},
   "source": [
    "$x(1-(1-\\frac{1}{x})^{n})$\n",
    "\n",
    "Each number in the range of [0,N] has the probabily of $(1-(1-\\frac{1}{x})^{n})$ to be selected in to n number list"
   ]
  },
  {
   "cell_type": "code",
   "execution_count": 22,
   "id": "89ea95ff",
   "metadata": {},
   "outputs": [],
   "source": [
    "def experiment (num_trial):\n",
    "    ## a list of random N for trial\n",
    "    N_list = np.random.random_integers(0,10000000,num_trial)\n",
    "    unique_list=[]\n",
    "    count = 0\n",
    "    while count<num_trial:\n",
    "        ##choose n as a random number between 0 and N\n",
    "        n = np.random.random_integers(0,N_list[count],1)\n",
    "        unique = unique_value(n, N_list[count])\n",
    "        unique_list.append(unique)\n",
    "        count+=1\n",
    "    \n",
    "    return N_list,unique_list\n",
    "\n",
    "\n",
    "        \n",
    "    \n",
    "        "
   ]
  },
  {
   "cell_type": "code",
   "execution_count": 23,
   "id": "f1da6698",
   "metadata": {},
   "outputs": [],
   "source": [
    "N_list,unique = experiment (100)"
   ]
  },
  {
   "cell_type": "code",
   "execution_count": 30,
   "id": "9f74bd21",
   "metadata": {},
   "outputs": [
    {
     "data": {
      "text/plain": [
       "Text(0, 0.5, 'unique_number')"
      ]
     },
     "execution_count": 30,
     "metadata": {},
     "output_type": "execute_result"
    },
    {
     "data": {
      "image/png": "[encoded data removed]",
      "text/plain": [
       "<Figure size 360x576 with 1 Axes>"
      ]
     },
     "metadata": {
      "needs_background": "light"
     },
     "output_type": "display_data"
    }
   ],
   "source": [
    "f = plt.figure(figsize=(5,8))\n",
    "plt.scatter(N_list,unique)\n",
    "plt.xlabel(\"N\")\n",
    "plt.ylabel(\"unique_number\")\n"
   ]
  },
  {
   "cell_type": "code",
   "execution_count": null,
   "id": "8d75d61f",
   "metadata": {},
   "outputs": [],
   "source": []
  }
 ],
 "metadata": {
  "kernelspec": {
   "display_name": "Python 3",
   "language": "python",
   "name": "python3"
  },
  "language_info": {
   "codemirror_mode": {
    "name": "ipython",
    "version": 3
   },
   "file_extension": ".py",
   "mimetype": "text/x-python",
   "name": "python",
   "nbconvert_exporter": "python",
   "pygments_lexer": "ipython3",
   "version": "3.8.8"
  }
 },
 "nbformat": 4,
 "nbformat_minor": 5
}
